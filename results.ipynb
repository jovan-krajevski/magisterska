{
 "cells": [
  {
   "cell_type": "code",
   "execution_count": 1,
   "metadata": {},
   "outputs": [],
   "source": [
    "import pandas as pd\n",
    "from pathlib import Path\n",
    "import matplotlib.pyplot as plt\n",
    "from tqdm import tqdm"
   ]
  },
  {
   "cell_type": "code",
   "execution_count": 2,
   "metadata": {},
   "outputs": [
    {
     "data": {
      "text/plain": [
       "[('108', 0.17968607106245532),\n",
       " ('111', 0.18115158113649926),\n",
       " ('109', 0.18326570295872802),\n",
       " ('112', 0.1835453086110107),\n",
       " ('88', 0.18769642970515765),\n",
       " ('91', 0.18791238912704974),\n",
       " ('92', 0.18829322444207042),\n",
       " ('110', 0.18844816869068015),\n",
       " ('89', 0.18922712243135234),\n",
       " ('90', 0.1919676981103044),\n",
       " ('150', 0.2234066526621763),\n",
       " ('127', 0.2357790878817214),\n",
       " ('130', 0.2388641379699639),\n",
       " ('147', 0.2415236957704338),\n",
       " ('128', 0.24242967568699175),\n",
       " ('148', 0.24262059798045363),\n",
       " ('149', 0.24672258470191458),\n",
       " ('151', 0.24694735583639654),\n",
       " ('129', 0.25651836697108693),\n",
       " ('131', 0.27012213227501103),\n",
       " ('13', 0.2749842366507317),\n",
       " ('12', 0.27500843893153704),\n",
       " ('11', 0.2753873140206803),\n",
       " ('10', 0.27659377910233046),\n",
       " ('52', 0.27932966439021045),\n",
       " ('53', 0.280323377549502),\n",
       " ('14', 0.2828727289851757),\n",
       " ('72', 0.2957160771146979),\n",
       " ('33', 0.297228571038192),\n",
       " ('32', 0.30079872831467386),\n",
       " ('31', 0.30179710120526154),\n",
       " ('30', 0.30251691472236397),\n",
       " ('2', 0.30601139423711926),\n",
       " ('69', 0.3061192862929633),\n",
       " ('7', 0.30614258003661743),\n",
       " ('70', 0.30671041682177014),\n",
       " ('27', 0.3067131551010876),\n",
       " ('73', 0.30712491964472266),\n",
       " ('17', 0.3072071684177456),\n",
       " ('71', 0.30724362411982903),\n",
       " ('22', 0.3084012584349963),\n",
       " ('64', 0.3332965889802043),\n",
       " ('86', 0.33349048066498954),\n",
       " ('60', 0.33355642042654327),\n",
       " ('62', 0.3335860109491908),\n",
       " ('83', 0.33374975894926184),\n",
       " ('84', 0.33380241173440817),\n",
       " ('101', 0.33383010736293095),\n",
       " ('114', 0.3338768715587437),\n",
       " ('55', 0.33413154204829476),\n",
       " ('61', 0.3341408217423002),\n",
       " ('74', 0.33423589101486073),\n",
       " ('8', 0.33427527831162596),\n",
       " ('132', 0.3343022867567402),\n",
       " ('76', 0.3343309646563516),\n",
       " ('125', 0.3343311864066084),\n",
       " ('23', 0.33437327148899004),\n",
       " ('142', 0.33439466565428977),\n",
       " ('137', 0.33441693780701404),\n",
       " ('5', 0.3344209559665247),\n",
       " ('75', 0.3344436385671095),\n",
       " ('81', 0.33444715757702265),\n",
       " ('67', 0.33447240454921306),\n",
       " ('98', 0.3344773690834964),\n",
       " ('117', 0.3344792418213719),\n",
       " ('0', 0.33448868930836506),\n",
       " ('78', 0.3344993851095202),\n",
       " ('120', 0.3345013982177277),\n",
       " ('153', 0.33451812742751275),\n",
       " ('56', 0.3345440666274503),\n",
       " ('106', 0.33456576757353373),\n",
       " ('6', 0.33456769451785856),\n",
       " ('28', 0.33457647718624417),\n",
       " ('1', 0.33458731364883887),\n",
       " ('123', 0.33465807178479523),\n",
       " ('113', 0.33466405706322305),\n",
       " ('103', 0.33466581642928456),\n",
       " ('18', 0.33466792450262195),\n",
       " ('143', 0.33477190805818186),\n",
       " ('21', 0.33479157018557704),\n",
       " ('25', 0.33485208218411894),\n",
       " ('118', 0.33485938754832906),\n",
       " ('26', 0.3348620135922405),\n",
       " ('66', 0.3349156908955818),\n",
       " ('145', 0.334919523622718),\n",
       " ('93', 0.33493299517835756),\n",
       " ('59', 0.3349443911570003),\n",
       " ('16', 0.3349781806374588),\n",
       " ('138', 0.33500472497151673),\n",
       " ('99', 0.3350529065024797),\n",
       " ('65', 0.3350722043993214),\n",
       " ('152', 0.33520362561115336),\n",
       " ('3', 0.33522300336432304),\n",
       " ('135', 0.3352616828593065),\n",
       " ('133', 0.33527872390459645),\n",
       " ('96', 0.3352953794118926),\n",
       " ('57', 0.3352953794118926),\n",
       " ('54', 0.3353298821420059),\n",
       " ('94', 0.3353307733779024),\n",
       " ('79', 0.33542301644635286),\n",
       " ('140', 0.33547879354416615),\n",
       " ('20', 0.33562690070802825),\n",
       " ('15', 0.33567627740020833),\n",
       " ('119', 0.3357619516733319),\n",
       " ('124', 0.33584928342789716),\n",
       " ('85', 0.3358538144163243),\n",
       " ('136', 0.3358559193937658),\n",
       " ('122', 0.33592797963561233),\n",
       " ('58', 0.33600703283465566),\n",
       " ('97', 0.33600703283465566),\n",
       " ('102', 0.3360088951579449),\n",
       " ('4', 0.33622008783919155),\n",
       " ('19', 0.33638922888824335),\n",
       " ('134', 0.3364258001790951),\n",
       " ('141', 0.3366920733838445),\n",
       " ('87', 0.3366971049701753),\n",
       " ('100', 0.3367202647430904),\n",
       " ('115', 0.3367555186115833),\n",
       " ('63', 0.336760375252048),\n",
       " ('146', 0.33691990959743123),\n",
       " ('121', 0.3369252774160101),\n",
       " ('9', 0.336934832344358),\n",
       " ('107', 0.3370797543825325),\n",
       " ('24', 0.3371042089197642),\n",
       " ('95', 0.3371045187138514),\n",
       " ('144', 0.33716158141401753),\n",
       " ('126', 0.3371792852233515),\n",
       " ('116', 0.33721818589988994),\n",
       " ('155', 0.33721818589988994),\n",
       " ('68', 0.33731098437195695),\n",
       " ('80', 0.3373863793826542),\n",
       " ('139', 0.3374633110044125),\n",
       " ('82', 0.3377310171121723),\n",
       " ('77', 0.33801574623934705),\n",
       " ('29', 0.33804798114630524),\n",
       " ('154', 0.3381053772196783),\n",
       " ('105', 0.3467059381854208),\n",
       " ('104', 0.3492712451258311)]"
      ]
     },
     "execution_count": 2,
     "metadata": {},
     "output_type": "execute_result"
    }
   ],
   "source": [
    "prophet_results = []\n",
    "\n",
    "\n",
    "def iter_metrics(path: Path):\n",
    "    results: list[tuple[str, float]] = []\n",
    "    for csv_path in path.iterdir():\n",
    "        if csv_path.is_dir():\n",
    "            # results += iter_metrics(csv_path)\n",
    "            continue\n",
    "\n",
    "        if csv_path.stem.startswith(\"model\"):\n",
    "            continue\n",
    "\n",
    "        metrics = pd.read_csv(csv_path, index_col=0)\n",
    "        for ticker in [\"META\", \"ROST\"]:\n",
    "            if ticker in metrics.index:\n",
    "                metrics = metrics.drop(ticker)\n",
    "                \n",
    "        if \"prophet\" in csv_path.stem and (\n",
    "            \"_q_\" in csv_path.stem\n",
    "            or \"_m_\" in csv_path.stem\n",
    "            or csv_path.stem.endswith(\"_q\")\n",
    "            or csv_path.stem.endswith(\"_m\")\n",
    "        ):\n",
    "            continue\n",
    "\n",
    "        \n",
    "\n",
    "        if \"prophet\" in csv_path.stem:\n",
    "            prophet_results.append((csv_path.stem, metrics[\"mape\"].mean()))\n",
    "        else:\n",
    "            results.append((csv_path.stem, metrics[\"mape\"].mean()))\n",
    "\n",
    "    return results\n",
    "\n",
    "\n",
    "# results = []\n",
    "# for csv_path in (Path(\"./\") / \"out\").iterdir():\n",
    "#     if csv_path.is_dir():\n",
    "\n",
    "#     metrics = pd.read_csv(csv_path, index_col=0)\n",
    "#     results.append((csv_path.stem, metrics[\"mape\"].mean()))\n",
    "\n",
    "results = sorted(\n",
    "    iter_metrics(Path(\"./\") / \"out\" / \"vangja\" / \"val3\"), key=lambda x: x[1]\n",
    ")\n",
    "prophet_results = sorted(prophet_results, key=lambda x: x[1])\n",
    "results\n",
    "\n",
    "# 01. LT(n=25,r=0.8,at=False) + FS(p=365.25,n=10,at=True) + C(l=-1,u=1,at=False) * FS(p=7,n=3,at=True)\n",
    "# 02. LT(n=25,r=0.8,at=False) + FS(p=365.25,n=10,at=True)\n",
    "# 03. LT(n=25,r=0.8,at=False) + FS(p=365.25,n=10,at=True) + BC(alpha=0.5,beta=0.5,l=-1,u=1,at=False) * FS(p=7,n=3,at=True)\n",
    "# 04. LT(n=25,r=0.8,at=False) + FS(p=365.25,n=10,at=True) + FS(p=7,n=3,at=False)\n",
    "# 05. LT(n=25,r=0.8,at=False) * (1 + FS(p=365.25,n=10,at=True) + C(l=-1,u=1,at=False) * FS(p=7,n=3,at=True))\n",
    "# 06. LT(n=25,r=0.8,at=False) * (1 + FS(p=365.25,n=10,at=True))\n",
    "# 07. LT(n=25,r=0.8,at=False) * (1 + FS(p=365.25,n=10,at=True) + FS(p=7,n=3,at=False))\n",
    "# 08. LT(n=25,r=0.8,at=False) + FS(p=365.25,n=10,at=True) + FS(p=7,n=3,at=True)\n",
    "# 09. LT(n=25,r=0.8,at=False) * (1 + FS(p=365.25,n=10,at=True) + BC(alpha=0.5,beta=0.5,l=-1,u=1,at=False) * FS(p=7,n=3,at=True))\n",
    "# 10. LT(n=25,r=0.8,at=False) * (1 + FS(p=365.25,n=10,at=True) + FS(p=7,n=3,at=True))"
   ]
  },
  {
   "cell_type": "code",
   "execution_count": 3,
   "metadata": {},
   "outputs": [
    {
     "name": "stdout",
     "output_type": "stream",
     "text": [
      "LT(n=25,r=0.8,at=False) + FS(p=365.25,n=10,at=True) + C(l=-1,u=1,at=False) * FS(p=7,n=3,at=True)\n",
      "\n",
      "108: 0.17996509011159625\n",
      "111: 0.1814290080669935\n",
      "109: 0.18351890800714316\n",
      "112: 0.18376646477715572\n",
      "88: 0.18788030766882988\n",
      "91: 0.18811031790419258\n",
      "92: 0.18849503296968906\n",
      "110: 0.18867668277154895\n",
      "89: 0.1894369729914552\n",
      "90: 0.19213870931355714\n",
      "150: 0.22292698241474931\n",
      "127: 0.23534423825039988\n",
      "130: 0.23840684200509765\n",
      "147: 0.24096748280224745\n",
      "128: 0.24196433609837406\n",
      "148: 0.24205867452522337\n",
      "149: 0.2461528959217305\n",
      "151: 0.24636748721583998\n",
      "129: 0.2559931061987685\n",
      "131: 0.2695490282089655\n",
      "13: 0.27499476475166745\n",
      "12: 0.27483574019306606\n",
      "11: 0.27542228825377457\n",
      "10: 0.27658270339962965\n",
      "52: 0.28030530162591955\n",
      "53: 0.28128317057478314\n",
      "14: 0.2829199943894258\n",
      "72: 0.2967216947650464\n",
      "33: 0.2972849116472669\n",
      "32: 0.30081032213226505\n",
      "31: 0.3019292738493822\n",
      "30: 0.30257270729091595\n",
      "2: 0.3059974918098769\n",
      "69: 0.3070837443847829\n",
      "7: 0.30625701345044465\n",
      "70: 0.307724556314589\n",
      "27: 0.30680769973133204\n",
      "73: 0.3081098087956978\n",
      "17: 0.3071947301488951\n",
      "71: 0.3082412629089444\n",
      "22: 0.3083599174165646\n",
      "64: 0.3343223808659117\n",
      "86: 0.3345086836014358\n",
      "60: 0.33458161772690187\n",
      "62: 0.33461020203123965\n",
      "83: 0.3347763618283031\n",
      "84: 0.3348291705649023\n",
      "101: 0.33485373986052797\n",
      "114: 0.33510251978213806\n",
      "55: 0.33515352669063797\n",
      "61: 0.33518760728876196\n",
      "74: 0.3352609840959401\n",
      "8: 0.3344510787159296\n",
      "132: 0.33548360733463706\n",
      "76: 0.33533912823558215\n",
      "125: 0.3355155575972731\n",
      "23: 0.33451956952895\n",
      "142: 0.3356214516167806\n",
      "137: 0.3356428722071022\n",
      "5: 0.3345694238138121\n",
      "75: 0.33546823954463306\n",
      "81: 0.3354733360097925\n",
      "67: 0.3354945675804019\n",
      "98: 0.3355043248291993\n",
      "117: 0.3357416218258379\n",
      "0: 0.3346997753714733\n",
      "78: 0.3355240525183966\n",
      "120: 0.3356719636385845\n",
      "153: 0.33574294279161937\n",
      "56: 0.33554851801631075\n",
      "106: 0.33580364835043147\n",
      "6: 0.3347116095482114\n",
      "28: 0.33473830538887867\n",
      "1: 0.3347354008151961\n",
      "123: 0.33591963524764423\n",
      "113: 0.3358330767358982\n",
      "103: 0.33568753648737176\n",
      "18: 0.3348236770836609\n",
      "143: 0.3359895028224905\n",
      "21: 0.3349437580281187\n",
      "25: 0.33500414038651066\n",
      "118: 0.33612003175815747\n",
      "26: 0.3350120393792013\n",
      "66: 0.3359623931065634\n",
      "145: 0.3361089890560517\n",
      "93: 0.335926476723749\n",
      "59: 0.3359663926594206\n",
      "16: 0.3351771618660952\n",
      "138: 0.3362287518407655\n",
      "99: 0.33607374067602175\n",
      "65: 0.3360929948908074\n",
      "152: 0.3364191483686217\n",
      "3: 0.33537682981592076\n",
      "135: 0.3364447789361796\n",
      "133: 0.3364694293115883\n",
      "96: 0.336314962870731\n",
      "57: 0.336314962870731\n",
      "54: 0.33634962731154705\n",
      "94: 0.3363499974247377\n",
      "79: 0.33644553429637813\n",
      "140: 0.3367060015005499\n",
      "20: 0.33577517646472893\n",
      "15: 0.33582740762387514\n",
      "119: 0.3369741030550481\n",
      "124: 0.33707912279996166\n",
      "85: 0.33686922238199357\n",
      "136: 0.33709184924762847\n",
      "122: 0.3371837444303044\n",
      "58: 0.3370375123364279\n",
      "97: 0.3370375123364279\n",
      "102: 0.33702886967410617\n",
      "4: 0.3362898835875411\n",
      "19: 0.3365716844664321\n",
      "134: 0.337635602371294\n",
      "141: 0.33787033536560823\n",
      "87: 0.33772608806528065\n",
      "100: 0.3377133135864561\n",
      "115: 0.3379046564775249\n",
      "63: 0.3377786301563348\n",
      "146: 0.3381098309773266\n",
      "121: 0.33815645288173496\n",
      "9: 0.3371577949444492\n",
      "107: 0.3382621322612528\n",
      "24: 0.3372954416140331\n",
      "95: 0.3381274787061523\n",
      "144: 0.3383286617125471\n",
      "126: 0.338390184412864\n",
      "116: 0.3384004075931188\n",
      "155: 0.3384004075931188\n",
      "68: 0.3383279793011336\n",
      "80: 0.338406114244092\n",
      "139: 0.3386392499102441\n",
      "82: 0.3387571671584142\n",
      "77: 0.3390311284149518\n",
      "29: 0.3382247512535681\n",
      "154: 0.33929112257193217\n",
      "105: 0.347471437162494\n",
      "104: 0.3502336268079545\n"
     ]
    },
    {
     "data": {
      "text/plain": [
       "0.08122031732490667"
      ]
     },
     "execution_count": 3,
     "metadata": {},
     "output_type": "execute_result"
    }
   ],
   "source": [
    "def find_model(csv_file: Path):\n",
    "    model_idx = csv_file.stem\n",
    "    for idx in range(3):\n",
    "        with open(csv_file.parent / f\"model_idxs_{idx}.txt\", \"r\") as f:\n",
    "            lines = f.readlines()\n",
    "            for line in lines:\n",
    "                if len(line) == 0:\n",
    "                    continue\n",
    "\n",
    "                parts = line.split(\",\")\n",
    "                if parts[0] != model_idx:\n",
    "                    continue\n",
    "\n",
    "                start = 10000\n",
    "                end = -1\n",
    "                for part_idx, part in enumerate(parts):\n",
    "                    if \"(\" in part:\n",
    "                        start = min(start, part_idx)\n",
    "\n",
    "                    if \")\" in part:\n",
    "                        end = max(end, part_idx)\n",
    "\n",
    "                return \",\".join(parts[start:end + 1])\n",
    "            \n",
    "    return None\n",
    "\n",
    "print(find_model(csv_file = Path(\"./\") / \"out\" / \"vangja\" / \"val3\" / f\"{108}.csv\"))\n",
    "\n",
    "folder = Path(\"./\") / \"out\" / \"vangja\" / \"val3\"\n",
    "my_results = {}\n",
    "for result_file, mape in results:\n",
    "    csv_file = folder / f\"{result_file}.csv\"\n",
    "    if csv_file.is_file():\n",
    "        my_results[result_file] = pd.read_csv(csv_file, index_col=0)\n",
    "        print(f\"{result_file}: {my_results[result_file]['mape'].mean()}\")\n",
    "\n",
    "index = my_results[result_file].index\n",
    "my = []\n",
    "models = set()\n",
    "bad_files = []\n",
    "bad_tickers = set()\n",
    "for ticker in index:\n",
    "    if ticker == \"META\" or ticker==\"ROST\":\n",
    "        continue\n",
    "    # best_my = [results.loc[ticker][\"mape\"] for results in my_results.values()]\n",
    "    best_my = 1000\n",
    "    best_model = \"\"\n",
    "    for model, metrics in my_results.items():\n",
    "        try:\n",
    "            if metrics.loc[ticker][\"mape\"] < best_my:\n",
    "                best_my = metrics.loc[ticker][\"mape\"]\n",
    "                best_model = model\n",
    "        except:\n",
    "            bad_files.append(int(model))\n",
    "            bad_tickers.add(ticker)\n",
    "\n",
    "    my.append(best_my)\n",
    "    models.add(find_model(folder / f\"{best_model}.csv\"))\n",
    "\n",
    "sum(my) / len(my)\n",
    "\n",
    "# 1. LT(n=25,r=0.8,at=False) + FS(p=365.25,n=10,at=True) + C(l=-1,u=1,at=False) * FS(p=7,n=3,at=True)\n",
    "# 2. LT(n=25,r=0.8,at=False) + FS(p=365.25,n=10,at=True)\n",
    "# 4. LT(n=25,r=0.8,at=False) * (1 + FS(p=365.25,n=10,at=True))"
   ]
  },
  {
   "cell_type": "code",
   "execution_count": 4,
   "metadata": {},
   "outputs": [
    {
     "data": {
      "text/plain": [
       "({'LT(n=25,r=0.8,at=False)\\n',\n",
       "  'LT(n=25,r=0.8,at=False) * (1 + BC(alpha=0.5,beta=0.5,l=-1,u=1,at=False) * FS(p=365.25,n=10,at=True) + BC(alpha=0.5,beta=0.5,l=-1,u=1,at=False) * FS(p=7,n=3,at=True))\\n',\n",
       "  'LT(n=25,r=0.8,at=False) * (1 + BC(alpha=0.5,beta=0.5,l=-1,u=1,at=False) * FS(p=365.25,n=10,at=True) + C(l=-1,u=1,at=False) * FS(p=7,n=3,at=True))\\n',\n",
       "  'LT(n=25,r=0.8,at=False) * (1 + BC(alpha=0.5,beta=0.5,l=-1,u=1,at=False) * FS(p=365.25,n=10,at=True) + FS(p=7,n=3,at=False))\\n',\n",
       "  'LT(n=25,r=0.8,at=False) * (1 + BC(alpha=0.5,beta=0.5,l=-1,u=1,at=False) * FS(p=365.25,n=10,at=True) + FS(p=7,n=3,at=True))\\n',\n",
       "  'LT(n=25,r=0.8,at=False) * (1 + BC(alpha=0.5,beta=0.5,l=-1,u=1,at=False) * FS(p=365.25,n=10,at=True))\\n',\n",
       "  'LT(n=25,r=0.8,at=False) * (1 + BC(alpha=0.5,beta=0.5,l=-1,u=1,at=False) * FS(p=7,n=3,at=True))\\n',\n",
       "  'LT(n=25,r=0.8,at=False) * (1 + C(l=-1,u=1,at=False) * FS(p=365.25,n=10,at=True) + C(l=-1,u=1,at=False) * FS(p=7,n=3,at=True))\\n',\n",
       "  'LT(n=25,r=0.8,at=False) * (1 + C(l=-1,u=1,at=False) * FS(p=365.25,n=10,at=True) + FS(p=7,n=3,at=True))\\n',\n",
       "  'LT(n=25,r=0.8,at=False) * (1 + C(l=-1,u=1,at=False) * FS(p=365.25,n=10,at=True))\\n',\n",
       "  'LT(n=25,r=0.8,at=False) * (1 + C(l=-1,u=1,at=False) * FS(p=7,n=3,at=True))\\n',\n",
       "  'LT(n=25,r=0.8,at=False) * (1 + FS(p=365.25,n=10,at=True) + BC(alpha=0.5,beta=0.5,l=-1,u=1,at=False) * FS(p=7,n=3,at=True))\\n',\n",
       "  'LT(n=25,r=0.8,at=False) * (1 + FS(p=365.25,n=10,at=True) + C(l=-1,u=1,at=False) * FS(p=7,n=3,at=True))\\n',\n",
       "  'LT(n=25,r=0.8,at=False) * (1 + FS(p=365.25,n=10,at=True) + FS(p=7,n=3,at=False))\\n',\n",
       "  'LT(n=25,r=0.8,at=False) * (1 + FS(p=365.25,n=10,at=True) + FS(p=7,n=3,at=True))\\n',\n",
       "  'LT(n=25,r=0.8,at=False) * (1 + FS(p=365.25,n=10,at=True))\\n',\n",
       "  'LT(n=25,r=0.8,at=False) * (1 + FS(p=7,n=3,at=True))\\n',\n",
       "  'LT(n=25,r=0.8,at=False) + BC(alpha=0.5,beta=0.5,l=-1,u=1,at=False) * FS(p=365.25,n=10,at=True) + FS(p=7,n=3,at=False)\\n',\n",
       "  'LT(n=25,r=0.8,at=False) + BC(alpha=0.5,beta=0.5,l=-1,u=1,at=False) * FS(p=365.25,n=10,at=True) + FS(p=7,n=3,at=True)\\n',\n",
       "  'LT(n=25,r=0.8,at=False) + C(l=-1,u=1,at=False) * FS(p=365.25,n=10,at=True) + C(l=-1,u=1,at=False) * FS(p=7,n=3,at=True)\\n',\n",
       "  'LT(n=25,r=0.8,at=False) + C(l=-1,u=1,at=False) * FS(p=365.25,n=10,at=True) + FS(p=7,n=3,at=False)\\n',\n",
       "  'LT(n=25,r=0.8,at=False) + C(l=-1,u=1,at=False) * FS(p=365.25,n=10,at=True) + FS(p=7,n=3,at=True)\\n',\n",
       "  'LT(n=25,r=0.8,at=False) + FS(p=365.25,n=10,at=True)\\n',\n",
       "  'LT(n=25,r=0.8,at=False) + FS(p=365.25,n=10,at=True) + BC(alpha=0.5,beta=0.5,l=-1,u=1,at=False) * FS(p=7,n=3,at=True)\\n',\n",
       "  'LT(n=25,r=0.8,at=False) + FS(p=365.25,n=10,at=True) + C(l=-1,u=1,at=False) * FS(p=7,n=3,at=True)\\n',\n",
       "  'LT(n=25,r=0.8,at=False) + FS(p=365.25,n=10,at=True) + FS(p=7,n=3,at=False)\\n',\n",
       "  'LT(n=25,r=0.8,at=False) + FS(p=365.25,n=10,at=True) + FS(p=7,n=3,at=True)\\n',\n",
       "  'LT(n=25,r=0.8,at=False) + FS(p=7,n=3,at=True)\\n',\n",
       "  'LT(n=25,r=1,at=False) + BC(alpha=0.5,beta=0.5,l=-1,u=1,at=False) * FS(p=365.25,n=10,at=True) + BC(alpha=0.5,beta=0.5,l=-1,u=1,at=False) * FS(p=7,n=3,at=True)\\n',\n",
       "  'LT(n=25,r=1,at=False) + BC(alpha=0.5,beta=0.5,l=-1,u=1,at=False) * FS(p=365.25,n=10,at=True) + FS(p=7,n=3,at=True)\\n'},\n",
       " 30)"
      ]
     },
     "execution_count": 4,
     "metadata": {},
     "output_type": "execute_result"
    }
   ],
   "source": [
    "models, len(models)"
   ]
  },
  {
   "cell_type": "code",
   "execution_count": 5,
   "metadata": {},
   "outputs": [
    {
     "name": "stdout",
     "output_type": "stream",
     "text": [
      "[0.17968607106245527, 0.16881727059397858, 0.16319514876133984, 0.15778675171305256, 0.14649783543628817, 0.14445236070510123, 0.14123380236680208, 0.14048655437103066, 0.13958945587029212, 0.1387971629598249, 0.11632792316477997, 0.11386198506546986, 0.11339912790470569, 0.1118648811850068, 0.11153008854968567, 0.11111141646692665, 0.11063016903439901, 0.11026754424216383, 0.10954482722702956, 0.10912234696135109, 0.09471651044877258, 0.09360138663723074, 0.0928617893710568, 0.09190269043169463, 0.08978437236060476, 0.08917831177973559, 0.08900756355183223, 0.08781515065038643, 0.08703962705723377, 0.08638962854743187, 0.08609922438699401, 0.08594386883329548, 0.08574105529147576, 0.08555669608843691, 0.0853677353390736, 0.08528096143100895, 0.08526211119179654, 0.08514926848787419, 0.08511619329241848, 0.08508347035109194, 0.08503880667577868, 0.08488778873557701, 0.08483816219517146, 0.08483816219517044, 0.08482898614331065, 0.08475764469744633, 0.0847222538483269, 0.084720552244125, 0.08466970820679638, 0.08466958302278335, 0.08466229740919876, 0.08466229740919876, 0.08463441431950573, 0.08463225337026699, 0.08462152720523414, 0.08462095267364406, 0.0846120933562508, 0.08461209335625076, 0.08453061850284765, 0.0845306185028477, 0.08453061850284764, 0.08451001625997435, 0.08450644689979017, 0.0845062470659828, 0.08450624706598282, 0.08450532600157855, 0.08450242129504129, 0.0845024212950413, 0.0845024212950413, 0.08450228571283908, 0.0845022857128391, 0.08450220573909335, 0.08450220573909335, 0.08450220573909335, 0.08444654574386543, 0.08444654574386543, 0.08444654574386541, 0.08444654574386547, 0.08444654574386543, 0.0844442561288293, 0.0844442561288293, 0.08444425612882926, 0.08444120209524356, 0.08444070708049436, 0.08444070708049442, 0.08443985895508035, 0.08443985895508035, 0.08443938392667408, 0.08443938392667401, 0.08443938392667397, 0.08443938392667397, 0.08443938392667401, 0.08443938392667408, 0.0844392361209386, 0.0844392361209386, 0.08443558395796268, 0.08443558395796268, 0.08443558395796268, 0.08443514875097843, 0.08443514875097843]\n",
      "[2, 3, 4, 5, 6, 7, 8, 9, 10, 11, 11, 11, 11, 11, 11, 11, 11, 11, 11, 11, 11, 11, 11, 11, 11, 11, 11, 11, 11, 11, 11, 11, 12, 12, 13, 13, 14, 14, 15, 15, 16, 16, 17, 18, 19, 19, 20, 21, 22, 23, 24, 24, 24, 25, 26, 26, 26, 26, 26, 26, 26, 27, 28, 27, 27, 28, 27, 27, 27, 27, 27, 27, 27, 27, 27, 27, 27, 27, 27, 27, 27, 27, 28, 28, 28, 29, 29, 29, 29, 29, 29, 29, 29, 29, 29, 29, 29, 29, 29, 29]\n"
     ]
    },
    {
     "data": {
      "text/plain": [
       "[<matplotlib.lines.Line2D at 0x71c279d2bd40>]"
      ]
     },
     "execution_count": 5,
     "metadata": {},
     "output_type": "execute_result"
    },
    {
     "data": {
      "image/png": "[encoded data removed]",
      "text/plain": [
       "<Figure size 1200x600 with 1 Axes>"
      ]
     },
     "metadata": {},
     "output_type": "display_data"
    }
   ],
   "source": [
    "my_results = {}\n",
    "score = []\n",
    "len_models = []\n",
    "\n",
    "for result_cnt in range(100):\n",
    "    for result_file, mape in results[result_cnt:result_cnt + 1]:\n",
    "        csv_file = Path(\"./\") / \"out\" / \"vangja\" / \"val3\" / f\"{result_file}.csv\"\n",
    "        if csv_file.is_file():\n",
    "            my_results[result_file] = pd.read_csv(csv_file, index_col=0)\n",
    "            # print(f\"{result_file}: {my_results[result_file]['mape'].mean()}\")\n",
    "\n",
    "    index = my_results[result_file].index\n",
    "    my = []\n",
    "    models = set()\n",
    "    bad_files = []\n",
    "    bad_tickers = set()\n",
    "    for ticker in index:\n",
    "        if ticker == \"META\" or ticker==\"ROST\":\n",
    "            continue\n",
    "        # best_my = [results.loc[ticker][\"mape\"] for results in my_results.values()]\n",
    "        best_my = 1000\n",
    "        best_model = \"\"\n",
    "        for model, metrics in my_results.items():\n",
    "            try:\n",
    "                if metrics.loc[ticker][\"mape\"] < best_my:\n",
    "                    best_my = metrics.loc[ticker][\"mape\"]\n",
    "                    best_model = model\n",
    "            except:\n",
    "                bad_files.append(int(model))\n",
    "                bad_tickers.add(ticker)\n",
    "\n",
    "        my.append(best_my)\n",
    "        models.add(models.add(find_model(folder / f\"{best_model}.csv\")))\n",
    "\n",
    "    score.append(sum(my) / len(my))\n",
    "    len_models.append(len(models))\n",
    "\n",
    "print(score)\n",
    "print(len_models)\n",
    "plt.figure(figsize=(12, 6))\n",
    "plt.plot(list(range(len(score))), score, lw=1)"
   ]
  },
  {
   "cell_type": "code",
   "execution_count": 51,
   "metadata": {},
   "outputs": [
    {
     "data": {
      "text/plain": [
       "[0.10912234696135109,\n",
       " 0.09471651044877258,\n",
       " 0.09360138663723074,\n",
       " 0.0928617893710568,\n",
       " 0.09190269043169463,\n",
       " 0.08978437236060476,\n",
       " 0.08917831177973559,\n",
       " 0.08900756355183223,\n",
       " 0.08781515065038643,\n",
       " 0.08703962705723377,\n",
       " 0.08638962854743187,\n",
       " 0.08609922438699401,\n",
       " 0.08594386883329548,\n",
       " 0.08574105529147576,\n",
       " 0.08555669608843691,\n",
       " 0.0853677353390736,\n",
       " 0.08528096143100895,\n",
       " 0.08526211119179654,\n",
       " 0.08514926848787419,\n",
       " 0.08511619329241848,\n",
       " 0.08508347035109194,\n",
       " 0.08503880667577868,\n",
       " 0.08488778873557701,\n",
       " 0.08483816219517146,\n",
       " 0.08483816219517044,\n",
       " 0.08482898614331065,\n",
       " 0.08475764469744633,\n",
       " 0.0847222538483269,\n",
       " 0.084720552244125,\n",
       " 0.08466970820679638,\n",
       " 0.08466958302278335,\n",
       " 0.08466229740919876,\n",
       " 0.08466229740919876,\n",
       " 0.08463441431950573,\n",
       " 0.08463225337026699,\n",
       " 0.08462152720523414,\n",
       " 0.08462095267364406,\n",
       " 0.0846120933562508,\n",
       " 0.08461209335625076,\n",
       " 0.08453061850284765,\n",
       " 0.0845306185028477,\n",
       " 0.08453061850284764,\n",
       " 0.08451001625997435,\n",
       " 0.08450644689979017,\n",
       " 0.0845062470659828,\n",
       " 0.08450624706598282,\n",
       " 0.08450532600157855,\n",
       " 0.08450242129504129,\n",
       " 0.0845024212950413,\n",
       " 0.0845024212950413,\n",
       " 0.08450228571283908,\n",
       " 0.0845022857128391,\n",
       " 0.08450220573909335,\n",
       " 0.08450220573909335,\n",
       " 0.08450220573909335,\n",
       " 0.08444654574386543,\n",
       " 0.08444654574386543,\n",
       " 0.08444654574386541,\n",
       " 0.08444654574386547,\n",
       " 0.08444654574386543,\n",
       " 0.0844442561288293,\n",
       " 0.0844442561288293,\n",
       " 0.08444425612882926,\n",
       " 0.08444120209524356,\n",
       " 0.08444070708049436,\n",
       " 0.08444070708049442,\n",
       " 0.08443985895508035,\n",
       " 0.08443985895508035,\n",
       " 0.08443938392667408,\n",
       " 0.08443938392667401,\n",
       " 0.08443938392667397,\n",
       " 0.08443938392667397,\n",
       " 0.08443938392667401,\n",
       " 0.08443938392667408,\n",
       " 0.0844392361209386,\n",
       " 0.0844392361209386,\n",
       " 0.08443558395796268,\n",
       " 0.08443558395796268,\n",
       " 0.08443558395796268,\n",
       " 0.08443514875097843,\n",
       " 0.08443514875097843]"
      ]
     },
     "execution_count": 51,
     "metadata": {},
     "output_type": "execute_result"
    }
   ],
   "source": [
    "score[19:]"
   ]
  },
  {
   "cell_type": "code",
   "execution_count": null,
   "metadata": {},
   "outputs": [],
   "source": [
    "print(s)"
   ]
  },
  {
   "cell_type": "code",
   "execution_count": 35,
   "metadata": {},
   "outputs": [
    {
     "data": {
      "text/plain": [
       "('104', set(), 0, '[]')"
      ]
     },
     "execution_count": 35,
     "metadata": {},
     "output_type": "execute_result"
    }
   ],
   "source": [
    "result_file, bad_tickers, len(bad_files), str(sorted(bad_files))"
   ]
  },
  {
   "cell_type": "code",
   "execution_count": 21,
   "metadata": {},
   "outputs": [
    {
     "data": {
      "text/plain": [
       "(437, 438, 437)"
      ]
     },
     "execution_count": 21,
     "metadata": {},
     "output_type": "execute_result"
    }
   ],
   "source": [
    "len(list(metrics.index)), len(index), len(metrics)"
   ]
  },
  {
   "cell_type": "code",
   "execution_count": 22,
   "metadata": {},
   "outputs": [
    {
     "data": {
      "text/html": [
       "<div>\n",
       "<style scoped>\n",
       "    .dataframe tbody tr th:only-of-type {\n",
       "        vertical-align: middle;\n",
       "    }\n",
       "\n",
       "    .dataframe tbody tr th {\n",
       "        vertical-align: top;\n",
       "    }\n",
       "\n",
       "    .dataframe thead th {\n",
       "        text-align: right;\n",
       "    }\n",
       "</style>\n",
       "<table border=\"1\" class=\"dataframe\">\n",
       "  <thead>\n",
       "    <tr style=\"text-align: right;\">\n",
       "      <th></th>\n",
       "      <th>mse</th>\n",
       "      <th>rmse</th>\n",
       "      <th>mae</th>\n",
       "      <th>mape</th>\n",
       "    </tr>\n",
       "  </thead>\n",
       "  <tbody>\n",
       "    <tr>\n",
       "      <th>AFL</th>\n",
       "      <td>0.013319</td>\n",
       "      <td>0.115407</td>\n",
       "      <td>0.107245</td>\n",
       "      <td>0.117127</td>\n",
       "    </tr>\n",
       "    <tr>\n",
       "      <th>DOV</th>\n",
       "      <td>0.350490</td>\n",
       "      <td>0.592022</td>\n",
       "      <td>0.506353</td>\n",
       "      <td>0.497965</td>\n",
       "    </tr>\n",
       "    <tr>\n",
       "      <th>EFX</th>\n",
       "      <td>0.016775</td>\n",
       "      <td>0.129519</td>\n",
       "      <td>0.115722</td>\n",
       "      <td>0.107395</td>\n",
       "    </tr>\n",
       "    <tr>\n",
       "      <th>ETN</th>\n",
       "      <td>0.492069</td>\n",
       "      <td>0.701476</td>\n",
       "      <td>0.611570</td>\n",
       "      <td>0.666615</td>\n",
       "    </tr>\n",
       "    <tr>\n",
       "      <th>COF</th>\n",
       "      <td>0.109678</td>\n",
       "      <td>0.331177</td>\n",
       "      <td>0.296191</td>\n",
       "      <td>0.280260</td>\n",
       "    </tr>\n",
       "    <tr>\n",
       "      <th>...</th>\n",
       "      <td>...</td>\n",
       "      <td>...</td>\n",
       "      <td>...</td>\n",
       "      <td>...</td>\n",
       "    </tr>\n",
       "    <tr>\n",
       "      <th>GL</th>\n",
       "      <td>0.067538</td>\n",
       "      <td>0.259881</td>\n",
       "      <td>0.229052</td>\n",
       "      <td>0.223775</td>\n",
       "    </tr>\n",
       "    <tr>\n",
       "      <th>PGR</th>\n",
       "      <td>0.005280</td>\n",
       "      <td>0.072661</td>\n",
       "      <td>0.057238</td>\n",
       "      <td>0.059598</td>\n",
       "    </tr>\n",
       "    <tr>\n",
       "      <th>CPB</th>\n",
       "      <td>0.321930</td>\n",
       "      <td>0.567389</td>\n",
       "      <td>0.493836</td>\n",
       "      <td>0.476455</td>\n",
       "    </tr>\n",
       "    <tr>\n",
       "      <th>XEL</th>\n",
       "      <td>0.018750</td>\n",
       "      <td>0.136929</td>\n",
       "      <td>0.119183</td>\n",
       "      <td>0.104543</td>\n",
       "    </tr>\n",
       "    <tr>\n",
       "      <th>LVS</th>\n",
       "      <td>0.176078</td>\n",
       "      <td>0.419617</td>\n",
       "      <td>0.345240</td>\n",
       "      <td>0.411579</td>\n",
       "    </tr>\n",
       "  </tbody>\n",
       "</table>\n",
       "<p>437 rows × 4 columns</p>\n",
       "</div>"
      ],
      "text/plain": [
       "          mse      rmse       mae      mape\n",
       "AFL  0.013319  0.115407  0.107245  0.117127\n",
       "DOV  0.350490  0.592022  0.506353  0.497965\n",
       "EFX  0.016775  0.129519  0.115722  0.107395\n",
       "ETN  0.492069  0.701476  0.611570  0.666615\n",
       "COF  0.109678  0.331177  0.296191  0.280260\n",
       "..        ...       ...       ...       ...\n",
       "GL   0.067538  0.259881  0.229052  0.223775\n",
       "PGR  0.005280  0.072661  0.057238  0.059598\n",
       "CPB  0.321930  0.567389  0.493836  0.476455\n",
       "XEL  0.018750  0.136929  0.119183  0.104543\n",
       "LVS  0.176078  0.419617  0.345240  0.411579\n",
       "\n",
       "[437 rows x 4 columns]"
      ]
     },
     "execution_count": 22,
     "metadata": {},
     "output_type": "execute_result"
    }
   ],
   "source": [
    "pd.read_csv(\"./out/vangja/val3/12.csv\", index_col=0)"
   ]
  },
  {
   "cell_type": "code",
   "execution_count": 36,
   "metadata": {},
   "outputs": [
    {
     "data": {
      "text/plain": [
       "(65, 436)"
      ]
     },
     "execution_count": 36,
     "metadata": {},
     "output_type": "execute_result"
    }
   ],
   "source": [
    "len(models), len(my)"
   ]
  },
  {
   "cell_type": "code",
   "execution_count": 10,
   "metadata": {},
   "outputs": [
    {
     "data": {
      "text/plain": [
       "dict_keys(['108', '111', '109', '112', '88', '91', '92', '110', '89', '90', '150', '127', '130', '147', '128', '148', '149', '151', '129', '131', '12', '13', '11', '10', '52', '53', '14', '72', '30', '2', '7', '27', '69', '17', '70', '73', '71', '22', '64', '8', '86', '23', '5', '60', '62', '0', '6', '1', '28', '83', '18', '84', '101', '21', '25', '26', '114', '55', '16', '61', '74', '76', '3', '75', '81', '132', '67', '98', '125', '78', '56', '142', '137', '120', '103', '117', '153', '20', '106', '15', '113', '123', '93', '66', '59', '143', '99', '65', '145', '118', '138', '4', '57', '96', '54', '94', '152', '135', '79', '133', '19', '140', '85', '119', '102', '97', '58', '124', '136', '9', '122', '24', '134', '100', '87', '63', '141', '115', '146', '95', '121', '29', '107', '68', '144', '126', '116', '155', '80', '139', '82', '77', '154', '105', '104'])"
      ]
     },
     "execution_count": 10,
     "metadata": {},
     "output_type": "execute_result"
    }
   ],
   "source": [
    "my_results.keys()"
   ]
  },
  {
   "cell_type": "code",
   "execution_count": 12,
   "metadata": {},
   "outputs": [
    {
     "data": {
      "text/plain": [
       "(Index(['VTR', 'VNO', 'LEN', 'RCL', 'HST', 'NRG', 'HAL', 'SYY', 'JBHT', 'HOLX',\n",
       "        ...\n",
       "        'AEP', 'PCAR', 'PH', 'XYL', 'KIM', 'WFC', 'MSFT', 'JCI', 'V', 'PSA'],\n",
       "       dtype='object', length=438),\n",
       " '104')"
      ]
     },
     "execution_count": 12,
     "metadata": {},
     "output_type": "execute_result"
    }
   ],
   "source": [
    "index, result_file"
   ]
  },
  {
   "cell_type": "code",
   "execution_count": 7,
   "metadata": {},
   "outputs": [
    {
     "data": {
      "text/html": [
       "<div>\n",
       "<style scoped>\n",
       "    .dataframe tbody tr th:only-of-type {\n",
       "        vertical-align: middle;\n",
       "    }\n",
       "\n",
       "    .dataframe tbody tr th {\n",
       "        vertical-align: top;\n",
       "    }\n",
       "\n",
       "    .dataframe thead th {\n",
       "        text-align: right;\n",
       "    }\n",
       "</style>\n",
       "<table border=\"1\" class=\"dataframe\">\n",
       "  <thead>\n",
       "    <tr style=\"text-align: right;\">\n",
       "      <th></th>\n",
       "      <th>mse</th>\n",
       "      <th>rmse</th>\n",
       "      <th>mae</th>\n",
       "      <th>mape</th>\n",
       "    </tr>\n",
       "  </thead>\n",
       "  <tbody>\n",
       "    <tr>\n",
       "      <th>y</th>\n",
       "      <td>0.010506</td>\n",
       "      <td>0.102497</td>\n",
       "      <td>0.086301</td>\n",
       "      <td>0.097043</td>\n",
       "    </tr>\n",
       "    <tr>\n",
       "      <th>y</th>\n",
       "      <td>0.082645</td>\n",
       "      <td>0.287481</td>\n",
       "      <td>0.263404</td>\n",
       "      <td>0.261336</td>\n",
       "    </tr>\n",
       "    <tr>\n",
       "      <th>y</th>\n",
       "      <td>0.051975</td>\n",
       "      <td>0.227980</td>\n",
       "      <td>0.199500</td>\n",
       "      <td>0.191852</td>\n",
       "    </tr>\n",
       "    <tr>\n",
       "      <th>y</th>\n",
       "      <td>0.012937</td>\n",
       "      <td>0.113741</td>\n",
       "      <td>0.098836</td>\n",
       "      <td>0.104326</td>\n",
       "    </tr>\n",
       "    <tr>\n",
       "      <th>y</th>\n",
       "      <td>0.147980</td>\n",
       "      <td>0.384682</td>\n",
       "      <td>0.307341</td>\n",
       "      <td>0.223136</td>\n",
       "    </tr>\n",
       "    <tr>\n",
       "      <th>...</th>\n",
       "      <td>...</td>\n",
       "      <td>...</td>\n",
       "      <td>...</td>\n",
       "      <td>...</td>\n",
       "    </tr>\n",
       "    <tr>\n",
       "      <th>y</th>\n",
       "      <td>0.001754</td>\n",
       "      <td>0.041883</td>\n",
       "      <td>0.033544</td>\n",
       "      <td>0.031173</td>\n",
       "    </tr>\n",
       "    <tr>\n",
       "      <th>y</th>\n",
       "      <td>0.062964</td>\n",
       "      <td>0.250927</td>\n",
       "      <td>0.222745</td>\n",
       "      <td>0.195239</td>\n",
       "    </tr>\n",
       "    <tr>\n",
       "      <th>y</th>\n",
       "      <td>0.026186</td>\n",
       "      <td>0.161822</td>\n",
       "      <td>0.140852</td>\n",
       "      <td>0.143105</td>\n",
       "    </tr>\n",
       "    <tr>\n",
       "      <th>y</th>\n",
       "      <td>0.038068</td>\n",
       "      <td>0.195111</td>\n",
       "      <td>0.152385</td>\n",
       "      <td>0.158879</td>\n",
       "    </tr>\n",
       "    <tr>\n",
       "      <th>y</th>\n",
       "      <td>0.090910</td>\n",
       "      <td>0.301513</td>\n",
       "      <td>0.273103</td>\n",
       "      <td>0.225547</td>\n",
       "    </tr>\n",
       "  </tbody>\n",
       "</table>\n",
       "<p>437 rows × 4 columns</p>\n",
       "</div>"
      ],
      "text/plain": [
       "         mse      rmse       mae      mape\n",
       "y   0.010506  0.102497  0.086301  0.097043\n",
       "y   0.082645  0.287481  0.263404  0.261336\n",
       "y   0.051975  0.227980  0.199500  0.191852\n",
       "y   0.012937  0.113741  0.098836  0.104326\n",
       "y   0.147980  0.384682  0.307341  0.223136\n",
       "..       ...       ...       ...       ...\n",
       "y   0.001754  0.041883  0.033544  0.031173\n",
       "y   0.062964  0.250927  0.222745  0.195239\n",
       "y   0.026186  0.161822  0.140852  0.143105\n",
       "y   0.038068  0.195111  0.152385  0.158879\n",
       "y   0.090910  0.301513  0.273103  0.225547\n",
       "\n",
       "[437 rows x 4 columns]"
      ]
     },
     "execution_count": 7,
     "metadata": {},
     "output_type": "execute_result"
    }
   ],
   "source": [
    "metrics.loc[ticker]"
   ]
  },
  {
   "cell_type": "code",
   "execution_count": 25,
   "metadata": {},
   "outputs": [
    {
     "data": {
      "text/plain": [
       "(591, 172)"
      ]
     },
     "execution_count": 25,
     "metadata": {},
     "output_type": "execute_result"
    }
   ],
   "source": [
    "len(results), len(models)"
   ]
  },
  {
   "cell_type": "code",
   "execution_count": 32,
   "metadata": {},
   "outputs": [
    {
     "name": "stdout",
     "output_type": "stream",
     "text": [
      "442\n"
     ]
    },
    {
     "data": {
      "text/plain": [
       "<matplotlib.legend.Legend at 0x7f1afa3b6a20>"
      ]
     },
     "execution_count": 32,
     "metadata": {},
     "output_type": "execute_result"
    },
    {
     "data": {
      "image/png": "[encoded data removed]",
      "text/plain": [
       "<Figure size 1200x600 with 1 Axes>"
      ]
     },
     "metadata": {},
     "output_type": "display_data"
    }
   ],
   "source": [
    "# test10 - NC * yT + wF\n",
    "# test11 - BC * yT + wT\n",
    "dates = []\n",
    "dates2 = []\n",
    "vangja_dates = []\n",
    "vangja2_dates = []\n",
    "vangja3_dates = []\n",
    "vangja4_dates = []\n",
    "mapes = []\n",
    "mapes2 = []\n",
    "vangja_mapes = []\n",
    "vangja2_mapes = []\n",
    "vangja3_mapes = []\n",
    "vangja4_mapes = []\n",
    "\n",
    "index = None\n",
    "\n",
    "for point in pd.date_range(\"2015-01-01\", \"2017-01-01\"):\n",
    "    point_str = f\"{point.year}-{'' if point.month > 9 else '0'}{point.month}-{'' if point.day > 9 else '0'}{point.day}\"\n",
    "    model_name = f\"prophet_{point_str}_multiplicative_w\"\n",
    "    csv_path = Path(\"./\") / \"out\" / \"prophet\" / \"test\" / f\"{model_name}.csv\"\n",
    "    vangja_path = Path(\"./\") / \"out\" / \"vangja\" / \"test10\" / f\"{point_str}.csv\"\n",
    "    if not csv_path.is_file() or not vangja_path.is_file():\n",
    "        continue\n",
    "\n",
    "    index_1 = pd.read_csv(csv_path, index_col=0).index\n",
    "    index_2 = pd.read_csv(vangja_path, index_col=0).index\n",
    "    index_1 = index_1.intersection(index_2)\n",
    "    if index is None:\n",
    "        index = index_1\n",
    "\n",
    "    index = index.intersection(index_1)\n",
    "\n",
    "print(len(index))\n",
    "prophet_metrics_per_ticker = {}\n",
    "vangja_metrics_per_ticker = {}\n",
    "\n",
    "for point in pd.date_range(\"2015-01-01\", \"2017-01-01\"):\n",
    "    point_str = f\"{point.year}-{'' if point.month > 9 else '0'}{point.month}-{'' if point.day > 9 else '0'}{point.day}\"\n",
    "    model_name = f\"prophet_{point_str}_multiplicative_w\"\n",
    "    csv_path = Path(\"./\") / \"out\" / \"prophet\" / \"test\" / f\"{model_name}.csv\"\n",
    "    csv2_path = Path(\"./\") / \"out\" / \"prophet\" / \"test2\" / f\"prophet_{point_str}_multiplicative_lt0_w.csv\"\n",
    "    vangja_path = Path(\"./\") / \"out\" / \"vangja\" / \"test10\" / f\"{point_str}.csv\"\n",
    "    vangja2_path = Path(\"./\") / \"out\" / \"vangja\" / \"test11\" / f\"{point_str}.csv\"\n",
    "    vangja3_path = Path(\"./\") / \"out\" / \"vangja\" / \"test12\" / f\"{point_str}.csv\"\n",
    "    vangja4_path = Path(\"./\") / \"out\" / \"vangja\" / \"test13\" / f\"{point_str}.csv\"\n",
    "\n",
    "    if not csv_path.is_file():\n",
    "        continue\n",
    "\n",
    "    dates.append(point)\n",
    "    prophet_metrics = pd.read_csv(csv_path, index_col=0)\n",
    "    mapes.append(prophet_metrics[\"mape\"].mean())\n",
    "\n",
    "    \n",
    "\n",
    "\n",
    "    if not vangja_path.is_file():\n",
    "        continue\n",
    "\n",
    "    vangja_metrics = pd.read_csv(vangja_path, index_col=0)\n",
    "    vangja_dates.append(point)\n",
    "    vangja_mapes.append(vangja_metrics[\"mape\"].mean())\n",
    "\n",
    "    # for ticker in index:\n",
    "    #     prophet_metrics_per_ticker[ticker] = prophet_metrics_per_ticker.get(\n",
    "    #         ticker, []\n",
    "    #     ) + [prophet_metrics.loc[ticker][\"mape\"]]\n",
    "    #     vangja_metrics_per_ticker[ticker] = vangja_metrics_per_ticker.get(\n",
    "    #         ticker, []\n",
    "    #     ) + [vangja_metrics.loc[ticker][\"mape\"]]\n",
    "\n",
    "    if not vangja2_path.is_file():\n",
    "        continue\n",
    "\n",
    "    vangja2_metrics = pd.read_csv(vangja2_path, index_col=0)\n",
    "    vangja2_dates.append(point)\n",
    "    vangja2_mapes.append(vangja2_metrics[\"mape\"].mean())\n",
    "\n",
    "    if not vangja3_path.is_file():\n",
    "        continue\n",
    "\n",
    "    vangja3_metrics = pd.read_csv(vangja3_path, index_col=0)\n",
    "    vangja3_dates.append(point)\n",
    "    vangja3_mapes.append(vangja3_metrics[\"mape\"].mean())\n",
    "\n",
    "    if not vangja4_path.is_file():\n",
    "        continue\n",
    "\n",
    "    vangja4_metrics = pd.read_csv(vangja4_path, index_col=0)\n",
    "    vangja4_dates.append(point)\n",
    "    vangja4_mapes.append(vangja4_metrics[\"mape\"].mean())\n",
    "\n",
    "    if not csv2_path.is_file():\n",
    "        continue\n",
    "\n",
    "    dates2.append(point)\n",
    "    prophet_metrics = pd.read_csv(csv2_path, index_col=0)\n",
    "    mapes2.append(prophet_metrics[\"mape\"].mean())\n",
    "\n",
    "    \n",
    "\n",
    "plt.figure(figsize=(12, 6))\n",
    "plt.plot(dates, mapes, lw=1, label=f\"Prophet ~ {100 * sum(mapes) / len(mapes):.2f}\")\n",
    "plt.plot(dates2, mapes2, lw=1, label=f\"Prophet changepoints 0 ~ {100 * sum(mapes2) / len(mapes2):.2f}\")\n",
    "plt.plot(\n",
    "    vangja_dates,\n",
    "    vangja_mapes,\n",
    "    lw=1,\n",
    "    label=f\"Vangja10 lF ** (NC * yT + wF) ~ {100 * sum(vangja_mapes) / len(vangja_mapes):.2f}\",\n",
    ")\n",
    "plt.plot(\n",
    "    vangja2_dates,\n",
    "    vangja2_mapes,\n",
    "    lw=1,\n",
    "    label=f\"Vangja11 lF ** (BC * yT + wT) ~ {100 * sum(vangja2_mapes) / len(vangja2_mapes):.2f}\",\n",
    ")\n",
    "plt.plot(\n",
    "    vangja3_dates,\n",
    "    vangja3_mapes,\n",
    "    lw=1,\n",
    "    label=f\"Vangja12 lF ** (yT + wT) ~ {100 * sum(vangja3_mapes) / len(vangja3_mapes):.2f}\",\n",
    ")\n",
    "plt.plot(\n",
    "    vangja4_dates,\n",
    "    vangja4_mapes,\n",
    "    lw=1,\n",
    "    label=f\"Vangja13 lT ** (yT + wT) ~ {100 * sum(vangja4_mapes) / len(vangja4_mapes):.2f}\",\n",
    ")\n",
    "plt.grid()\n",
    "plt.legend()"
   ]
  },
  {
   "cell_type": "code",
   "execution_count": 31,
   "metadata": {},
   "outputs": [
    {
     "data": {
      "text/plain": [
       "(0.18940937580164943, 0.10593231072545882)"
      ]
     },
     "execution_count": 31,
     "metadata": {},
     "output_type": "execute_result"
    }
   ],
   "source": [
    "max(vangja4_mapes), min(vangja4_mapes)"
   ]
  },
  {
   "cell_type": "code",
   "execution_count": 39,
   "metadata": {},
   "outputs": [
    {
     "data": {
      "text/plain": [
       "CF      0.080433\n",
       "UAA     0.067014\n",
       "WYNN    0.061479\n",
       "MOS     0.057299\n",
       "FCX     0.052467\n",
       "          ...   \n",
       "DHR     0.003513\n",
       "EIX     0.003484\n",
       "RSG     0.003438\n",
       "PSX     0.003223\n",
       "LYV     0.003138\n",
       "Length: 380, dtype: float64"
      ]
     },
     "execution_count": 39,
     "metadata": {},
     "output_type": "execute_result"
    }
   ],
   "source": [
    "(pd.DataFrame(prophet_metrics_per_ticker).mean() - pd.DataFrame(vangja_metrics_per_ticker).mean()).sort_values(ascending=False).iloc[:380]"
   ]
  },
  {
   "cell_type": "code",
   "execution_count": 56,
   "metadata": {},
   "outputs": [],
   "source": [
    "ti = pd.DataFrame(prophet_metrics_per_ticker).mean().sort_values().index"
   ]
  },
  {
   "cell_type": "code",
   "execution_count": 61,
   "metadata": {},
   "outputs": [
    {
     "data": {
      "text/plain": [
       "(0.24384666203119232, 0.21951790229681753)"
      ]
     },
     "execution_count": 61,
     "metadata": {},
     "output_type": "execute_result"
    }
   ],
   "source": [
    "pd.DataFrame(prophet_metrics_per_ticker).mean()[\"UNH\"], pd.DataFrame(vangja_metrics_per_ticker).mean()[\"UNH\"]"
   ]
  },
  {
   "cell_type": "code",
   "execution_count": 69,
   "metadata": {},
   "outputs": [
    {
     "data": {
      "text/plain": [
       "UNH     0.099771\n",
       "CF      0.096638\n",
       "LEG     0.093062\n",
       "CAH     0.091181\n",
       "TPR     0.089200\n",
       "          ...   \n",
       "MA     -0.031540\n",
       "PG     -0.034188\n",
       "CTAS   -0.034577\n",
       "V      -0.046210\n",
       "TAP    -0.054254\n",
       "Length: 442, dtype: float64"
      ]
     },
     "execution_count": 69,
     "metadata": {},
     "output_type": "execute_result"
    }
   ],
   "source": [
    "(\n",
    "    (\n",
    "        pd.DataFrame(prophet_metrics_per_ticker).mean().loc[ti]\n",
    "        - pd.DataFrame(vangja_metrics_per_ticker).mean().loc[ti]\n",
    "    )\n",
    "    / pd.DataFrame(prophet_metrics_per_ticker).mean().loc[ti]\n",
    ").sort_values(ascending=False)"
   ]
  },
  {
   "cell_type": "code",
   "execution_count": 72,
   "metadata": {},
   "outputs": [
    {
     "data": {
      "text/plain": [
       "<matplotlib.legend.Legend at 0x7fc102766f60>"
      ]
     },
     "execution_count": 72,
     "metadata": {},
     "output_type": "execute_result"
    },
    {
     "data": {
      "image/png": "[encoded data removed]",
      "text/plain": [
       "<Figure size 1200x600 with 1 Axes>"
      ]
     },
     "metadata": {},
     "output_type": "display_data"
    }
   ],
   "source": [
    "\n",
    "# best = (pd.DataFrame(prophet_metrics_per_ticker).mean() - pd.DataFrame(vangja_metrics_per_ticker).mean()).sort_values(ascending=False).iloc[:200].index\n",
    "best = (\n",
    "    (\n",
    "        pd.DataFrame(prophet_metrics_per_ticker).mean().loc[ti]\n",
    "        - pd.DataFrame(vangja_metrics_per_ticker).mean().loc[ti]\n",
    "    )\n",
    "    / pd.DataFrame(prophet_metrics_per_ticker).mean().loc[ti]\n",
    ").sort_values(ascending=False).iloc[:50].index\n",
    "dates = []\n",
    "vangja_dates = []\n",
    "mapes = []\n",
    "vangja_mapes = []\n",
    "\n",
    "for point in pd.date_range(\"2015-01-01\", \"2017-01-01\"):\n",
    "    point_str = f\"{point.year}-{'' if point.month > 9 else '0'}{point.month}-{'' if point.day > 9 else '0'}{point.day}\"\n",
    "    model_name = f\"prophet_{point_str}_multiplicative_w\"\n",
    "    csv_path = Path(\"./\") / \"out\" / \"prophet\" / \"test\" / f\"{model_name}.csv\"\n",
    "    vangja_path = Path(\"./\") / \"out\" / \"vangja\" / \"test10\" / f\"{point_str}.csv\"\n",
    "    if not csv_path.is_file() or not vangja_path.is_file():\n",
    "        continue\n",
    "\n",
    "    dates.append(point)\n",
    "    prophet_metrics = pd.read_csv(csv_path, index_col=0).loc[best]\n",
    "    mapes.append(prophet_metrics[\"mape\"].mean())\n",
    "    if not vangja_path.is_file():\n",
    "        continue\n",
    "\n",
    "    vangja_metrics = pd.read_csv(vangja_path, index_col=0).loc[best]\n",
    "    vangja_dates.append(point)\n",
    "    vangja_mapes.append(vangja_metrics[\"mape\"].mean())\n",
    "\n",
    "plt.figure(figsize=(12, 6))\n",
    "plt.plot(dates, mapes, lw=1, label=f\"Prophet MAPE ~ {100 * sum(mapes) / len(mapes):.2f}\")\n",
    "plt.plot(vangja_dates, vangja_mapes, lw=1, label=f\"Vangja MAPE ~ {100 * sum(vangja_mapes) / len(vangja_mapes):.2f}\")\n",
    "plt.grid()\n",
    "plt.legend()"
   ]
  },
  {
   "cell_type": "code",
   "execution_count": 37,
   "metadata": {},
   "outputs": [
    {
     "data": {
      "text/plain": [
       "[0.6602629960815104,\n",
       " 0.8690505326626856,\n",
       " 0.664686055294643,\n",
       " 1.0929526245791368,\n",
       " 0.9524554900491292]"
      ]
     },
     "execution_count": 37,
     "metadata": {},
     "output_type": "execute_result"
    }
   ],
   "source": [
    "prophet_metrics_per_ticker[\"NRG\"]"
   ]
  },
  {
   "cell_type": "code",
   "execution_count": 186,
   "metadata": {},
   "outputs": [
    {
     "data": {
      "text/plain": [
       "CLX     0.120702\n",
       "RSG     0.154542\n",
       "PEP     0.183628\n",
       "T       0.188831\n",
       "LMT     0.191420\n",
       "          ...   \n",
       "CF      0.986732\n",
       "NCLH    1.021120\n",
       "MU      1.025952\n",
       "WMB     1.117796\n",
       "FCX     1.489121\n",
       "Length: 442, dtype: float64"
      ]
     },
     "execution_count": 186,
     "metadata": {},
     "output_type": "execute_result"
    }
   ],
   "source": [
    "pd.DataFrame(vangja_metrics_per_ticker).mean().sort_values()"
   ]
  },
  {
   "cell_type": "code",
   "execution_count": 24,
   "metadata": {},
   "outputs": [
    {
     "data": {
      "text/plain": [
       "count    664.000000\n",
       "mean       0.393368\n",
       "std        0.117633\n",
       "min        0.224099\n",
       "25%        0.316248\n",
       "50%        0.365206\n",
       "75%        0.437891\n",
       "max        1.000289\n",
       "dtype: float64"
      ]
     },
     "execution_count": 24,
     "metadata": {},
     "output_type": "execute_result"
    }
   ],
   "source": [
    "pd.Series(mapes).describe()"
   ]
  },
  {
   "cell_type": "code",
   "execution_count": 25,
   "metadata": {},
   "outputs": [
    {
     "data": {
      "text/plain": [
       "count    664.000000\n",
       "mean       0.376859\n",
       "std        0.120885\n",
       "min        0.205629\n",
       "25%        0.297395\n",
       "50%        0.348706\n",
       "75%        0.414936\n",
       "max        1.002883\n",
       "dtype: float64"
      ]
     },
     "execution_count": 25,
     "metadata": {},
     "output_type": "execute_result"
    }
   ],
   "source": [
    "pd.Series(vangja_mapes).describe()"
   ]
  },
  {
   "cell_type": "code",
   "execution_count": 63,
   "metadata": {},
   "outputs": [
    {
     "data": {
      "text/plain": [
       "(0.29075288763021745, 0.28838827693962354)"
      ]
     },
     "execution_count": 63,
     "metadata": {},
     "output_type": "execute_result"
    }
   ],
   "source": [
    "idx = -3\n",
    "mapes[idx], vangja_mapes[idx]"
   ]
  },
  {
   "cell_type": "code",
   "execution_count": 11,
   "metadata": {},
   "outputs": [
    {
     "data": {
      "text/plain": [
       "[('prophet_2014_additive_smp_w', 0.3424672522092445),\n",
       " ('prophet_2014_multiplicative', 0.34297307555725365),\n",
       " ('prophet_2014_additive', 0.34297307555725365),\n",
       " ('prophet_2014_multiplicative_smp_w', 0.3429744903837415),\n",
       " ('prophet_2014_multiplicative_w', 0.3435770094405776),\n",
       " ('prophet_2014_multiplicative_w_smp_w', 0.343579222809886),\n",
       " ('prophet_2014_additive_w_smp_w', 0.3440900353036296),\n",
       " ('prophet_2014_additive_w', 0.34409536999613793),\n",
       " ('prophet_results_2014', 0.34409536999613793),\n",
       " ('prophet_2014_additive_smp_w_smp_yearly', 0.34437501284607647),\n",
       " ('prophet_2014_additive_smp_yearly', 0.34445651708100083),\n",
       " ('prophet_2014_multiplicative_smp_yearly', 0.3467905698311062),\n",
       " ('prophet_results_w_smp_y_2014', 0.34681218584434825),\n",
       " ('prophet_2014_multiplicative_w_smp_yearly', 0.3469819922043038),\n",
       " ('prophet_2014_multiplicative_w_smp_w_smp_yearly', 0.347045333511293),\n",
       " ('prophet_2014_additive_w_smp_w_smp_yearly', 0.3471004307111387),\n",
       " ('prophet_2014_additive_w_smp_yearly', 0.3471016879846142),\n",
       " ('prophet_2014_multiplicative_smp_w_smp_yearly', 0.34727404622464114),\n",
       " ('prophet_2014_additive_y_smp_yearly', 6.340280558550168),\n",
       " ('prophet_2014_additive_y', 6.342210379212752),\n",
       " ('prophet_2014_additive_y_smp_w_smp_yearly', 6.3484233015010805),\n",
       " ('prophet_2014_additive_y_smp_w', 6.3496254036246675),\n",
       " ('prophet_2014_additive_y_w', 6.693369849281317),\n",
       " ('prophet_2014_additive_y_w_smp_w', 6.693370853994352),\n",
       " ('prophet_2014_additive_y_w_smp_w_smp_yearly', 6.693995879201916),\n",
       " ('prophet_2014_additive_y_w_smp_yearly', 6.694090802362957),\n",
       " ('prophet_2014_multiplicative_y_w_smp_w_smp_yearly', 25.11731452094415),\n",
       " ('prophet_2014_multiplicative_y_w_smp_w', 25.959370051961265),\n",
       " ('prophet_2014_multiplicative_y_w_smp_yearly', 25.978378437364356),\n",
       " ('prophet_2014_multiplicative_y_smp_yearly', 25.979837975653766),\n",
       " ('prophet_2014_multiplicative_y', 26.271627791533255),\n",
       " ('prophet_2014_multiplicative_y_w', 26.3301940204345),\n",
       " ('prophet_2014_multiplicative_y_smp_w_smp_yearly', 27.105751789821525),\n",
       " ('prophet_2014_multiplicative_y_smp_w', 27.492092424449435)]"
      ]
     },
     "execution_count": 11,
     "metadata": {},
     "output_type": "execute_result"
    }
   ],
   "source": [
    "prophet_results"
   ]
  },
  {
   "cell_type": "code",
   "execution_count": 10,
   "metadata": {},
   "outputs": [
    {
     "name": "stdout",
     "output_type": "stream",
     "text": [
      "('vangja_same_30_LT(n_25_r_0_8_at_False_complete)', 0.33624783455055207)\n",
      "('vangja_linear_70_LT(n_25_r_0_8_at_False_complete)', 0.33624783455055207)\n",
      "('vangja_linear_40_LT(n_25_r_0_8_at_False_complete)', 0.33624783455055207)\n",
      "('vangja_same_10_LT(n_25_r_0_8_at_False_complete)', 0.33624783455055207)\n",
      "('vangja_linear_60_LT(n_25_r_0_8_at_False_complete)', 0.33624783455055207)\n",
      "('vangja_simple_80_LT(n_25_r_0_8_at_False_complete)', 0.33624783455055207)\n",
      "('vangja_simple_60_LT(n_25_r_0_8_at_False_complete)', 0.33624783455055207)\n",
      "('vangja_linear_80_LT(n_25_r_0_8_at_False_complete)', 0.33624783455055207)\n",
      "('vangja_linear_30_LT(n_25_r_0_8_at_False_complete)', 0.33624783455055207)\n",
      "('vangja_simple_70_LT(n_25_r_0_8_at_False_complete)', 0.33624783455055207)\n",
      "('vangja_simple_40_LT(n_25_r_0_8_at_False_complete)', 0.33624783455055207)\n",
      "('vangja_simple_10_LT(n_25_r_0_8_at_False_complete)', 0.33624783455055207)\n",
      "('vangja_simple_30_LT(n_25_r_0_8_at_False_complete)', 0.33624783455055207)\n",
      "('vangja_same_20_LT(n_25_r_0_8_at_False_complete)', 0.33624783455055207)\n",
      "('vangja_linear_20_LT(n_25_r_0_8_at_False_complete)', 0.33624783455055207)\n",
      "('vangja_same_50_LT(n_25_r_0_8_at_False_complete)', 0.33624783455055207)\n",
      "('vangja_simple_50_LT(n_25_r_0_8_at_False_complete)', 0.33624783455055207)\n",
      "('vangja_linear_50_LT(n_25_r_0_8_at_False_complete)', 0.33624783455055207)\n",
      "('vangja_linear_10_LT(n_25_r_0_8_at_False_complete)', 0.33624783455055207)\n",
      "('vangja_simple_20_LT(n_25_r_0_8_at_False_complete)', 0.33624783455055207)\n",
      "('vangja_same_40_LT(n_25_r_0_8_at_False_complete)', 0.33624783455055207)\n",
      "('vangja_same_50_LT(n_25_r_0_8_at_False_complete) MUL FS(p_7_n_3_at_False_complete)', 0.3369351437352854)\n",
      "('vangja_simple_20_LT(n_25_r_0_8_at_False_complete) MUL FS(p_7_n_3_at_False_complete)', 0.3369351437352854)\n",
      "('vangja_same_70_LT(n_25_r_0_8_at_False_complete) MUL FS(p_7_n_3_at_False_complete)', 0.3369351437352854)\n",
      "('vangja_same_60_LT(n_25_r_0_8_at_False_complete) MUL FS(p_7_n_3_at_False_complete)', 0.3369351437352854)\n",
      "('vangja_simple_10_LT(n_25_r_0_8_at_False_complete) MUL FS(p_7_n_3_at_False_complete)', 0.3369351437352854)\n",
      "('vangja_linear_50_LT(n_25_r_0_8_at_False_complete) MUL FS(p_7_n_3_at_False_complete)', 0.33795394581088545)\n",
      "('vangja_simple_70_LT(n_25_r_0_8_at_False_complete) MUL FS(p_7_n_3_at_False_complete)', 0.33795394581088545)\n",
      "('vangja_linear_80_LT(n_25_r_0_8_at_False_complete) MUL FS(p_7_n_3_at_False_complete)', 0.33795394581088545)\n",
      "('vangja_simple_50_LT(n_25_r_0_8_at_False_complete) MUL FS(p_7_n_3_at_False_complete)', 0.33795394581088545)\n",
      "('vangja_simple_80_LT(n_25_r_0_8_at_False_complete) MUL FS(p_7_n_3_at_False_complete)', 0.33795394581088545)\n",
      "('vangja_simple_30_LT(n_25_r_0_8_at_False_complete) MUL FS(p_7_n_3_at_False_complete)', 0.33795394581088545)\n",
      "('vangja_linear_60_LT(n_25_r_0_8_at_False_complete) MUL FS(p_7_n_3_at_False_complete)', 0.33795394581088545)\n",
      "('vangja_same_40_LT(n_25_r_0_8_at_False_complete) MUL FS(p_7_n_3_at_False_complete)', 0.33795394581088545)\n",
      "('vangja_same_30_LT(n_25_r_0_8_at_False_complete) MUL FS(p_7_n_3_at_False_complete)', 0.33795394581088545)\n",
      "('vangja_same_20_LT(n_25_r_0_8_at_False_complete) MUL FS(p_7_n_3_at_False_complete)', 0.33795394581088545)\n",
      "('vangja_linear_70_LT(n_25_r_0_8_at_False_complete) MUL FS(p_7_n_3_at_False_complete)', 0.33795394581088545)\n",
      "('vangja_linear_40_LT(n_25_r_0_8_at_False_complete) MUL FS(p_7_n_3_at_False_complete)', 0.33795394581088545)\n",
      "('vangja_same_10_LT(n_25_r_0_8_at_False_complete) MUL FS(p_7_n_3_at_False_complete)', 0.33795394581088545)\n",
      "('vangja_simple_60_LT(n_25_r_0_8_at_False_complete) MUL FS(p_7_n_3_at_False_complete)', 0.33795394581088545)\n",
      "('vangja_linear_10_LT(n_25_r_0_8_at_False_complete) MUL FS(p_7_n_3_at_False_complete)', 0.33795394581088545)\n",
      "('vangja_linear_20_LT(n_25_r_0_8_at_False_complete) MUL FS(p_7_n_3_at_False_complete)', 0.33795394581088545)\n",
      "('vangja_linear_30_LT(n_25_r_0_8_at_False_complete) MUL FS(p_7_n_3_at_False_complete)', 0.33795394581088545)\n",
      "('vangja_simple_40_LT(n_25_r_0_8_at_False_complete) MUL FS(p_7_n_3_at_False_complete)', 0.33795394581088545)\n",
      "('vangja_linear_70_LT(n_25_r_0_8_at_False_complete) ADD FS(p_365_25_n_10_at_False_complete)', 0.33825769139626866)\n",
      "('vangja_linear_50_LT(n_25_r_0_8_at_False_complete) ADD FS(p_365_25_n_10_at_False_complete)', 0.33825769139626866)\n",
      "('vangja_same_20_LT(n_25_r_0_8_at_False_complete) ADD FS(p_365_25_n_10_at_False_complete)', 0.33825769139626866)\n",
      "('vangja_same_60_LT(n_25_r_0_8_at_False_complete) ADD FS(p_365_25_n_10_at_False_complete)', 0.33825769139626866)\n",
      "('vangja_linear_80_LT(n_25_r_0_8_at_False_complete) ADD FS(p_365_25_n_10_at_False_complete)', 0.33825769139626866)\n",
      "('vangja_same_50_LT(n_25_r_0_8_at_False_complete) ADD FS(p_365_25_n_10_at_False_complete)', 0.33825769139626866)\n",
      "('vangja_simple_40_LT(n_25_r_0_8_at_False_complete) ADD FS(p_365_25_n_10_at_False_complete)', 0.33825769139626866)\n",
      "('vangja_simple_80_LT(n_25_r_0_8_at_False_complete) ADD FS(p_365_25_n_10_at_False_complete)', 0.33825769139626866)\n",
      "('vangja_simple_70_LT(n_25_r_0_8_at_False_complete) ADD FS(p_365_25_n_10_at_False_complete)', 0.33825769139626866)\n",
      "('vangja_simple_50_LT(n_25_r_0_8_at_False_complete) ADD FS(p_365_25_n_10_at_False_complete)', 0.33825769139626866)\n",
      "('vangja_simple_20_LT(n_25_r_0_8_at_False_complete) ADD FS(p_365_25_n_10_at_False_complete)', 0.33825769139626866)\n",
      "('vangja_linear_40_LT(n_25_r_0_8_at_False_complete) ADD FS(p_365_25_n_10_at_False_complete)', 0.33825769139626866)\n",
      "('vangja_linear_20_LT(n_25_r_0_8_at_False_complete) ADD FS(p_365_25_n_10_at_False_complete)', 0.33825769139626866)\n",
      "('vangja_same_30_LT(n_25_r_0_8_at_False_complete) ADD FS(p_365_25_n_10_at_False_complete)', 0.33825769139626866)\n",
      "('vangja_linear_60_LT(n_25_r_0_8_at_False_complete) ADD FS(p_365_25_n_10_at_False_complete)', 0.33825769139626866)\n",
      "('vangja_linear_30_LT(n_25_r_0_8_at_False_complete) ADD FS(p_365_25_n_10_at_False_complete)', 0.33825769139626866)\n",
      "('vangja_same_70_LT(n_25_r_0_8_at_False_complete) ADD FS(p_365_25_n_10_at_False_complete)', 0.33825769139626866)\n",
      "('vangja_linear_10_LT(n_25_r_0_8_at_False_complete) ADD FS(p_365_25_n_10_at_False_complete)', 0.33825769139626866)\n",
      "('vangja_simple_60_LT(n_25_r_0_8_at_False_complete) ADD FS(p_365_25_n_10_at_False_complete)', 0.33825769139626866)\n",
      "('vangja_same_40_LT(n_25_r_0_8_at_False_complete) ADD FS(p_365_25_n_10_at_False_complete)', 0.33825769139626866)\n",
      "('vangja_same_10_LT(n_25_r_0_8_at_False_complete) ADD FS(p_365_25_n_10_at_False_complete)', 0.33825769139626866)\n",
      "('vangja_simple_30_LT(n_25_r_0_8_at_False_complete) ADD FS(p_365_25_n_10_at_False_complete)', 0.33825769139626866)\n",
      "('vangja_simple_10_LT(n_25_r_0_8_at_False_complete) ADD FS(p_365_25_n_10_at_False_complete)', 0.33825769139626866)\n",
      "('vangja_same_60_LT(n_25_r_0_8_at_False_complete) ADD FS(p_7_n_3_at_False_complete)', 0.3385969914216778)\n",
      "('vangja_same_10_LT(n_25_r_0_8_at_False_complete) ADD FS(p_7_n_3_at_False_complete)', 0.3385969914216778)\n",
      "('vangja_simple_20_LT(n_25_r_0_8_at_False_complete) ADD FS(p_7_n_3_at_False_complete)', 0.3385969914216778)\n",
      "('vangja_same_30_LT(n_25_r_0_8_at_False_complete) ADD FS(p_7_n_3_at_False_complete)', 0.3385969914216778)\n",
      "('vangja_same_20_LT(n_25_r_0_8_at_False_complete) ADD FS(p_7_n_3_at_False_complete)', 0.3385969914216778)\n",
      "('vangja_simple_10_LT(n_25_r_0_8_at_False_complete) ADD FS(p_7_n_3_at_False_complete)', 0.3385969914216778)\n",
      "('vangja_same_70_LT(n_25_r_0_8_at_False_complete) ADD FS(p_7_n_3_at_False_complete)', 0.3385969914216778)\n",
      "('vangja_same_50_LT(n_25_r_0_8_at_False_complete) ADD FS(p_7_n_3_at_False_complete)', 0.3385969914216778)\n",
      "('vangja_same_40_LT(n_25_r_0_8_at_False_complete) ADD FS(p_7_n_3_at_False_complete)', 0.3385969914216778)\n",
      "('vangja_simple_60_LT(n_25_r_0_8_at_False_complete) ADD FS(p_7_n_3_at_False_complete)', 0.342933316373314)\n",
      "('vangja_simple_30_LT(n_25_r_0_8_at_False_complete) ADD FS(p_7_n_3_at_False_complete)', 0.342933316373314)\n",
      "('vangja_linear_60_LT(n_25_r_0_8_at_False_complete) ADD FS(p_7_n_3_at_False_complete)', 0.342933316373314)\n",
      "('vangja_linear_10_LT(n_25_r_0_8_at_False_complete) ADD FS(p_7_n_3_at_False_complete)', 0.342933316373314)\n",
      "('vangja_simple_80_LT(n_25_r_0_8_at_False_complete) ADD FS(p_7_n_3_at_False_complete)', 0.342933316373314)\n",
      "('vangja_simple_70_LT(n_25_r_0_8_at_False_complete) ADD FS(p_7_n_3_at_False_complete)', 0.342933316373314)\n",
      "('vangja_linear_50_LT(n_25_r_0_8_at_False_complete) ADD FS(p_7_n_3_at_False_complete)', 0.342933316373314)\n",
      "('vangja_simple_50_LT(n_25_r_0_8_at_False_complete) ADD FS(p_7_n_3_at_False_complete)', 0.342933316373314)\n",
      "('vangja_linear_20_LT(n_25_r_0_8_at_False_complete) ADD FS(p_7_n_3_at_False_complete)', 0.342933316373314)\n",
      "('vangja_linear_30_LT(n_25_r_0_8_at_False_complete) ADD FS(p_7_n_3_at_False_complete)', 0.342933316373314)\n",
      "('vangja_linear_80_LT(n_25_r_0_8_at_False_complete) ADD FS(p_7_n_3_at_False_complete)', 0.342933316373314)\n",
      "('vangja_simple_40_LT(n_25_r_0_8_at_False_complete) ADD FS(p_7_n_3_at_False_complete)', 0.342933316373314)\n",
      "('vangja_linear_40_LT(n_25_r_0_8_at_False_complete) ADD FS(p_7_n_3_at_False_complete)', 0.342933316373314)\n",
      "('vangja_linear_70_LT(n_25_r_0_8_at_False_complete) ADD FS(p_7_n_3_at_False_complete)', 0.342933316373314)\n",
      "('prophet_results_2014', 0.34409536999613793)\n",
      "('vangja_linear_30_LT(n_25_r_0_8_at_False_complete) ADD FS(p_365_25_n_10_at_False_complete) ADD FS(p_7_n_3_at_False_complete)', 0.34620088311545427)\n",
      "('vangja_same_40_LT(n_25_r_0_8_at_False_complete) ADD FS(p_365_25_n_10_at_False_complete) ADD FS(p_7_n_3_at_False_complete)', 0.34620088311545427)\n",
      "('vangja_same_50_LT(n_25_r_0_8_at_False_complete) ADD FS(p_365_25_n_10_at_False_complete) ADD FS(p_7_n_3_at_False_complete)', 0.34620088311545427)\n",
      "('vangja_simple_10_LT(n_25_r_0_8_at_False_complete) ADD FS(p_365_25_n_10_at_False_complete) ADD FS(p_7_n_3_at_False_complete)', 0.34620088311545427)\n",
      "('vangja_linear_80_LT(n_25_r_0_8_at_False_complete) ADD FS(p_365_25_n_10_at_False_complete) ADD FS(p_7_n_3_at_False_complete)', 0.34620088311545427)\n",
      "('vangja_linear_10_LT(n_25_r_0_8_at_False_complete) ADD FS(p_365_25_n_10_at_False_complete) ADD FS(p_7_n_3_at_False_complete)', 0.34620088311545427)\n",
      "('vangja_same_10_LT(n_25_r_0_8_at_False_complete) ADD FS(p_365_25_n_10_at_False_complete) ADD FS(p_7_n_3_at_False_complete)', 0.34620088311545427)\n",
      "('vangja_linear_20_LT(n_25_r_0_8_at_False_complete) ADD FS(p_365_25_n_10_at_False_complete) ADD FS(p_7_n_3_at_False_complete)', 0.34620088311545427)\n",
      "('vangja_same_60_LT(n_25_r_0_8_at_False_complete) ADD FS(p_365_25_n_10_at_False_complete) ADD FS(p_7_n_3_at_False_complete)', 0.34620088311545427)\n",
      "('vangja_simple_20_LT(n_25_r_0_8_at_False_complete) ADD FS(p_365_25_n_10_at_False_complete) ADD FS(p_7_n_3_at_False_complete)', 0.34620088311545427)\n",
      "('vangja_same_20_LT(n_25_r_0_8_at_False_complete) ADD FS(p_365_25_n_10_at_False_complete) ADD FS(p_7_n_3_at_False_complete)', 0.34620088311545427)\n",
      "('vangja_simple_60_LT(n_25_r_0_8_at_False_complete) ADD FS(p_365_25_n_10_at_False_complete) ADD FS(p_7_n_3_at_False_complete)', 0.34620088311545427)\n",
      "('vangja_same_70_LT(n_25_r_0_8_at_False_complete) ADD FS(p_365_25_n_10_at_False_complete) ADD FS(p_7_n_3_at_False_complete)', 0.34620088311545427)\n",
      "('vangja_linear_70_LT(n_25_r_0_8_at_False_complete) ADD FS(p_365_25_n_10_at_False_complete) ADD FS(p_7_n_3_at_False_complete)', 0.34620088311545427)\n",
      "('vangja_linear_50_LT(n_25_r_0_8_at_False_complete) ADD FS(p_365_25_n_10_at_False_complete) ADD FS(p_7_n_3_at_False_complete)', 0.34620088311545427)\n",
      "('vangja_same_30_LT(n_25_r_0_8_at_False_complete) ADD FS(p_365_25_n_10_at_False_complete) ADD FS(p_7_n_3_at_False_complete)', 0.34620088311545427)\n",
      "('vangja_simple_50_LT(n_25_r_0_8_at_False_complete) ADD FS(p_365_25_n_10_at_False_complete) ADD FS(p_7_n_3_at_False_complete)', 0.34620088311545427)\n",
      "('vangja_linear_60_LT(n_25_r_0_8_at_False_complete) ADD FS(p_365_25_n_10_at_False_complete) ADD FS(p_7_n_3_at_False_complete)', 0.34620088311545427)\n",
      "('vangja_simple_30_LT(n_25_r_0_8_at_False_complete) ADD FS(p_365_25_n_10_at_False_complete) ADD FS(p_7_n_3_at_False_complete)', 0.34620088311545427)\n",
      "('vangja_linear_40_LT(n_25_r_0_8_at_False_complete) ADD FS(p_365_25_n_10_at_False_complete) ADD FS(p_7_n_3_at_False_complete)', 0.34620088311545427)\n",
      "('vangja_simple_70_LT(n_25_r_0_8_at_False_complete) ADD FS(p_365_25_n_10_at_False_complete) ADD FS(p_7_n_3_at_False_complete)', 0.34620088311545427)\n",
      "('vangja_simple_80_LT(n_25_r_0_8_at_False_complete) ADD FS(p_365_25_n_10_at_False_complete) ADD FS(p_7_n_3_at_False_complete)', 0.34620088311545427)\n",
      "('vangja_simple_40_LT(n_25_r_0_8_at_False_complete) ADD FS(p_365_25_n_10_at_False_complete) ADD FS(p_7_n_3_at_False_complete)', 0.34620088311545427)\n",
      "('vangja_simple_60_LT(n_25_r_0_8_at_False_complete) MUL FS(p_365_25_n_10_at_False_complete)', 0.3682576641779788)\n",
      "('vangja_simple_40_LT(n_25_r_0_8_at_False_complete) MUL FS(p_365_25_n_10_at_False_complete)', 0.3682576641779788)\n",
      "('vangja_same_10_LT(n_25_r_0_8_at_False_complete) MUL FS(p_365_25_n_10_at_False_complete)', 0.3682576641779788)\n",
      "('vangja_linear_60_LT(n_25_r_0_8_at_False_complete) MUL FS(p_365_25_n_10_at_False_complete)', 0.3682576641779788)\n",
      "('vangja_linear_80_LT(n_25_r_0_8_at_False_complete) MUL FS(p_365_25_n_10_at_False_complete)', 0.3682576641779788)\n",
      "('vangja_simple_80_LT(n_25_r_0_8_at_False_complete) MUL FS(p_365_25_n_10_at_False_complete)', 0.3682576641779788)\n",
      "('vangja_linear_50_LT(n_25_r_0_8_at_False_complete) MUL FS(p_365_25_n_10_at_False_complete)', 0.3682576641779788)\n",
      "('vangja_linear_70_LT(n_25_r_0_8_at_False_complete) MUL FS(p_365_25_n_10_at_False_complete)', 0.3682576641779788)\n",
      "('vangja_simple_70_LT(n_25_r_0_8_at_False_complete) MUL FS(p_365_25_n_10_at_False_complete)', 0.3682576641779788)\n",
      "('vangja_simple_30_LT(n_25_r_0_8_at_False_complete) MUL FS(p_365_25_n_10_at_False_complete)', 0.3682576641779788)\n",
      "('vangja_linear_20_LT(n_25_r_0_8_at_False_complete) MUL FS(p_365_25_n_10_at_False_complete)', 0.3682576641779788)\n",
      "('vangja_simple_20_LT(n_25_r_0_8_at_False_complete) MUL FS(p_365_25_n_10_at_False_complete)', 0.3682576641779788)\n",
      "('vangja_linear_40_LT(n_25_r_0_8_at_False_complete) MUL FS(p_365_25_n_10_at_False_complete)', 0.3682576641779788)\n",
      "('vangja_simple_50_LT(n_25_r_0_8_at_False_complete) MUL FS(p_365_25_n_10_at_False_complete)', 0.3682576641779788)\n",
      "('vangja_same_20_LT(n_25_r_0_8_at_False_complete) MUL FS(p_365_25_n_10_at_False_complete)', 0.3682576641779788)\n",
      "('vangja_linear_30_LT(n_25_r_0_8_at_False_complete) MUL FS(p_365_25_n_10_at_False_complete)', 0.3682576641779788)\n",
      "('vangja_simple_10_LT(n_25_r_0_8_at_False_complete) MUL FS(p_365_25_n_10_at_False_complete)', 0.3682576641779788)\n",
      "('vangja_linear_10_LT(n_25_r_0_8_at_False_complete) MUL FS(p_365_25_n_10_at_False_complete)', 0.3682576641779788)\n",
      "('vangja_same_30_LT(n_25_r_0_8_at_False_complete) MUL FS(p_365_25_n_10_at_False_complete)', 0.36825766417797884)\n",
      "('vangja_same_60_LT(n_25_r_0_8_at_False_complete) MUL FS(p_365_25_n_10_at_False_complete)', 0.36825766417797884)\n",
      "('vangja_same_50_LT(n_25_r_0_8_at_False_complete) MUL FS(p_365_25_n_10_at_False_complete)', 0.36825766417797884)\n",
      "('vangja_same_40_LT(n_25_r_0_8_at_False_complete) MUL FS(p_365_25_n_10_at_False_complete)', 0.36825766417797884)\n",
      "('vangja_same_70_LT(n_25_r_0_8_at_False_complete) MUL FS(p_365_25_n_10_at_False_complete)', 0.36825766417797884)\n",
      "('vangja_linear_50_LT(n_25_r_0_8_at_False_complete) MUL (FS(p_365_25_n_10_at_False_complete) ADD FS(p_7_n_3_at_False_complete))', 0.4267716193365852)\n",
      "('vangja_simple_60_LT(n_25_r_0_8_at_False_complete) MUL (FS(p_365_25_n_10_at_False_complete) ADD FS(p_7_n_3_at_False_complete))', 0.4267716193365852)\n",
      "('vangja_linear_80_LT(n_25_r_0_8_at_False_complete) MUL (FS(p_365_25_n_10_at_False_complete) ADD FS(p_7_n_3_at_False_complete))', 0.4267716193365852)\n",
      "('vangja_simple_70_LT(n_25_r_0_8_at_False_complete) MUL (FS(p_365_25_n_10_at_False_complete) ADD FS(p_7_n_3_at_False_complete))', 0.4267716193365852)\n",
      "('vangja_simple_50_LT(n_25_r_0_8_at_False_complete) MUL (FS(p_365_25_n_10_at_False_complete) ADD FS(p_7_n_3_at_False_complete))', 0.4267716193365852)\n",
      "('vangja_simple_10_LT(n_25_r_0_8_at_False_complete) MUL (FS(p_365_25_n_10_at_False_complete) ADD FS(p_7_n_3_at_False_complete))', 0.4267716193365852)\n",
      "('vangja_linear_40_LT(n_25_r_0_8_at_False_complete) MUL (FS(p_365_25_n_10_at_False_complete) ADD FS(p_7_n_3_at_False_complete))', 0.4267716193365852)\n",
      "('vangja_simple_40_LT(n_25_r_0_8_at_False_complete) MUL (FS(p_365_25_n_10_at_False_complete) ADD FS(p_7_n_3_at_False_complete))', 0.4267716193365852)\n",
      "('vangja_simple_20_LT(n_25_r_0_8_at_False_complete) MUL (FS(p_365_25_n_10_at_False_complete) ADD FS(p_7_n_3_at_False_complete))', 0.4267716193365852)\n",
      "('vangja_same_20_LT(n_25_r_0_8_at_False_complete) MUL (FS(p_365_25_n_10_at_False_complete) ADD FS(p_7_n_3_at_False_complete))', 0.4267716193365852)\n",
      "('vangja_linear_70_LT(n_25_r_0_8_at_False_complete) MUL (FS(p_365_25_n_10_at_False_complete) ADD FS(p_7_n_3_at_False_complete))', 0.4267716193365852)\n",
      "('vangja_same_10_LT(n_25_r_0_8_at_False_complete) MUL (FS(p_365_25_n_10_at_False_complete) ADD FS(p_7_n_3_at_False_complete))', 0.4267716193365852)\n",
      "('vangja_linear_20_LT(n_25_r_0_8_at_False_complete) MUL (FS(p_365_25_n_10_at_False_complete) ADD FS(p_7_n_3_at_False_complete))', 0.4267716193365852)\n",
      "('vangja_simple_30_LT(n_25_r_0_8_at_False_complete) MUL (FS(p_365_25_n_10_at_False_complete) ADD FS(p_7_n_3_at_False_complete))', 0.4267716193365852)\n",
      "('vangja_linear_30_LT(n_25_r_0_8_at_False_complete) MUL (FS(p_365_25_n_10_at_False_complete) ADD FS(p_7_n_3_at_False_complete))', 0.4267716193365852)\n",
      "('vangja_linear_60_LT(n_25_r_0_8_at_False_complete) MUL (FS(p_365_25_n_10_at_False_complete) ADD FS(p_7_n_3_at_False_complete))', 0.4267716193365852)\n",
      "('vangja_linear_10_LT(n_25_r_0_8_at_False_complete) MUL (FS(p_365_25_n_10_at_False_complete) ADD FS(p_7_n_3_at_False_complete))', 0.4267716193365852)\n",
      "('vangja_simple_80_LT(n_25_r_0_8_at_False_complete) MUL (FS(p_365_25_n_10_at_False_complete) ADD FS(p_7_n_3_at_False_complete))', 0.4267716193365852)\n",
      "('vangja_same_40_LT(n_25_r_0_8_at_False_complete) MUL (FS(p_365_25_n_10_at_False_complete) ADD FS(p_7_n_3_at_False_complete))', 0.42677161933658525)\n",
      "('vangja_same_30_LT(n_25_r_0_8_at_False_complete) MUL (FS(p_365_25_n_10_at_False_complete) ADD FS(p_7_n_3_at_False_complete))', 0.42677161933658525)\n",
      "('vangja_same_70_LT(n_25_r_0_8_at_False_complete) MUL (FS(p_365_25_n_10_at_False_complete) ADD FS(p_7_n_3_at_False_complete))', 0.42677161933658525)\n",
      "('vangja_same_60_LT(n_25_r_0_8_at_False_complete) MUL (FS(p_365_25_n_10_at_False_complete) ADD FS(p_7_n_3_at_False_complete))', 0.42677161933658525)\n",
      "('vangja_same_50_LT(n_25_r_0_8_at_False_complete) MUL (FS(p_365_25_n_10_at_False_complete) ADD FS(p_7_n_3_at_False_complete))', 0.42677161933658525)\n"
     ]
    }
   ],
   "source": [
    "for result in results:\n",
    "    if \"True\" not in result[0]:\n",
    "        print(result)"
   ]
  },
  {
   "cell_type": "code",
   "execution_count": 22,
   "metadata": {},
   "outputs": [
    {
     "name": "stdout",
     "output_type": "stream",
     "text": [
      "prophet_results_2014.csv: 26.3301940204345\n",
      "prophet_results_default_2014.csv: 0.3435770094405776\n",
      "prophet_results_default_smp_2014.csv: 0.3468237309926702\n"
     ]
    }
   ],
   "source": [
    "prophet_results = {}\n",
    "\n",
    "for result_file in [\n",
    "    \"prophet_results_2014.csv\",\n",
    "    \"prophet_results_default_2014.csv\",\n",
    "    \"prophet_results_default_smp_2014.csv\",\n",
    "]:\n",
    "    prophet_results[result_file] = pd.read_csv(Path(\"./\") / result_file, index_col=0)\n",
    "\n",
    "for result_file in prophet_results.keys():\n",
    "    print(f\"{result_file}: {prophet_results[result_file]['mape'].mean()}\")"
   ]
  },
  {
   "cell_type": "code",
   "execution_count": 16,
   "metadata": {},
   "outputs": [
    {
     "data": {
      "text/plain": [
       "(0.9605224438074478, 661.8497201295756, 26.3301940204345)"
      ]
     },
     "execution_count": 16,
     "metadata": {},
     "output_type": "execute_result"
    }
   ],
   "source": [
    "(prophet_results[\"prophet_results_2014.csv\"][\"mape\"].min(),\n",
    "prophet_results[\"prophet_results_2014.csv\"][\"mape\"].max(),\n",
    "prophet_results[\"prophet_results_2014.csv\"][\"mape\"].mean())"
   ]
  },
  {
   "cell_type": "code",
   "execution_count": 24,
   "metadata": {},
   "outputs": [
    {
     "name": "stdout",
     "output_type": "stream",
     "text": [
      "my_result_linear_2014.csv: 0.27082506370387294\n"
     ]
    }
   ],
   "source": [
    "my_results = {}\n",
    "\n",
    "for result_file in [\n",
    "    \"my_result_linear_2014.csv\",\n",
    "    # \"my_result_same_2014.csv\",\n",
    "    # \"my_result_simple_2014.csv\",\n",
    "]:\n",
    "    my_results[result_file] = pd.read_csv(Path(\"./\") / result_file, index_col=0)\n",
    "    print(f\"{result_file}: {my_results[result_file]['mape'].mean()}\")"
   ]
  },
  {
   "cell_type": "code",
   "execution_count": 66,
   "metadata": {},
   "outputs": [
    {
     "data": {
      "text/html": [
       "<div>\n",
       "<style scoped>\n",
       "    .dataframe tbody tr th:only-of-type {\n",
       "        vertical-align: middle;\n",
       "    }\n",
       "\n",
       "    .dataframe tbody tr th {\n",
       "        vertical-align: top;\n",
       "    }\n",
       "\n",
       "    .dataframe thead th {\n",
       "        text-align: right;\n",
       "    }\n",
       "</style>\n",
       "<table border=\"1\" class=\"dataframe\">\n",
       "  <thead>\n",
       "    <tr style=\"text-align: right;\">\n",
       "      <th></th>\n",
       "      <th>mse</th>\n",
       "      <th>rmse</th>\n",
       "      <th>mae</th>\n",
       "      <th>mape</th>\n",
       "    </tr>\n",
       "  </thead>\n",
       "  <tbody>\n",
       "    <tr>\n",
       "      <th>PRGO</th>\n",
       "      <td>0.060717</td>\n",
       "      <td>0.246408</td>\n",
       "      <td>0.211053</td>\n",
       "      <td>0.216011</td>\n",
       "    </tr>\n",
       "    <tr>\n",
       "      <th>INCY</th>\n",
       "      <td>0.168545</td>\n",
       "      <td>0.410543</td>\n",
       "      <td>0.367722</td>\n",
       "      <td>0.349816</td>\n",
       "    </tr>\n",
       "    <tr>\n",
       "      <th>ED</th>\n",
       "      <td>0.032185</td>\n",
       "      <td>0.179403</td>\n",
       "      <td>0.148304</td>\n",
       "      <td>0.140498</td>\n",
       "    </tr>\n",
       "    <tr>\n",
       "      <th>CDNS</th>\n",
       "      <td>0.005822</td>\n",
       "      <td>0.076303</td>\n",
       "      <td>0.055513</td>\n",
       "      <td>0.047230</td>\n",
       "    </tr>\n",
       "    <tr>\n",
       "      <th>SHW</th>\n",
       "      <td>0.065807</td>\n",
       "      <td>0.256529</td>\n",
       "      <td>0.223741</td>\n",
       "      <td>0.195271</td>\n",
       "    </tr>\n",
       "    <tr>\n",
       "      <th>...</th>\n",
       "      <td>...</td>\n",
       "      <td>...</td>\n",
       "      <td>...</td>\n",
       "      <td>...</td>\n",
       "    </tr>\n",
       "    <tr>\n",
       "      <th>FE</th>\n",
       "      <td>0.002496</td>\n",
       "      <td>0.049958</td>\n",
       "      <td>0.042216</td>\n",
       "      <td>0.045426</td>\n",
       "    </tr>\n",
       "    <tr>\n",
       "      <th>EVRG</th>\n",
       "      <td>0.012768</td>\n",
       "      <td>0.112996</td>\n",
       "      <td>0.101321</td>\n",
       "      <td>0.086837</td>\n",
       "    </tr>\n",
       "    <tr>\n",
       "      <th>UAL</th>\n",
       "      <td>0.335582</td>\n",
       "      <td>0.579295</td>\n",
       "      <td>0.512152</td>\n",
       "      <td>0.407554</td>\n",
       "    </tr>\n",
       "    <tr>\n",
       "      <th>DFS</th>\n",
       "      <td>0.008021</td>\n",
       "      <td>0.089560</td>\n",
       "      <td>0.066776</td>\n",
       "      <td>0.059575</td>\n",
       "    </tr>\n",
       "    <tr>\n",
       "      <th>TDY</th>\n",
       "      <td>0.037247</td>\n",
       "      <td>0.192994</td>\n",
       "      <td>0.161771</td>\n",
       "      <td>0.153983</td>\n",
       "    </tr>\n",
       "  </tbody>\n",
       "</table>\n",
       "<p>437 rows × 4 columns</p>\n",
       "</div>"
      ],
      "text/plain": [
       "           mse      rmse       mae      mape\n",
       "PRGO  0.060717  0.246408  0.211053  0.216011\n",
       "INCY  0.168545  0.410543  0.367722  0.349816\n",
       "ED    0.032185  0.179403  0.148304  0.140498\n",
       "CDNS  0.005822  0.076303  0.055513  0.047230\n",
       "SHW   0.065807  0.256529  0.223741  0.195271\n",
       "...        ...       ...       ...       ...\n",
       "FE    0.002496  0.049958  0.042216  0.045426\n",
       "EVRG  0.012768  0.112996  0.101321  0.086837\n",
       "UAL   0.335582  0.579295  0.512152  0.407554\n",
       "DFS   0.008021  0.089560  0.066776  0.059575\n",
       "TDY   0.037247  0.192994  0.161771  0.153983\n",
       "\n",
       "[437 rows x 4 columns]"
      ]
     },
     "execution_count": 66,
     "metadata": {},
     "output_type": "execute_result"
    }
   ],
   "source": [
    "my_results[result_file]"
   ]
  },
  {
   "cell_type": "code",
   "execution_count": 25,
   "metadata": {},
   "outputs": [],
   "source": [
    "index = my_results[result_file].index\n",
    "prophet = []\n",
    "my = []\n",
    "for ticker in index:\n",
    "    best_prophet = [results.loc[ticker][\"mape\"] for results in prophet_results.values()]\n",
    "    best_my = [results.loc[ticker][\"mape\"] for results in my_results.values()]\n",
    "    prophet.append(min(best_prophet))\n",
    "    my.append(min(best_my))"
   ]
  },
  {
   "cell_type": "code",
   "execution_count": 26,
   "metadata": {},
   "outputs": [
    {
     "data": {
      "text/plain": [
       "0.3311428929528097"
      ]
     },
     "execution_count": 26,
     "metadata": {},
     "output_type": "execute_result"
    }
   ],
   "source": [
    "sum(prophet) / len(prophet)"
   ]
  },
  {
   "cell_type": "code",
   "execution_count": 27,
   "metadata": {},
   "outputs": [
    {
     "data": {
      "text/plain": [
       "0.27082506370387294"
      ]
     },
     "execution_count": 27,
     "metadata": {},
     "output_type": "execute_result"
    }
   ],
   "source": [
    "sum(my) / len(my)"
   ]
  },
  {
   "cell_type": "code",
   "execution_count": 39,
   "metadata": {},
   "outputs": [
    {
     "data": {
      "text/plain": [
       "(437, 437)"
      ]
     },
     "execution_count": 39,
     "metadata": {},
     "output_type": "execute_result"
    }
   ],
   "source": [
    "len(prophet), len(my)"
   ]
  },
  {
   "cell_type": "code",
   "execution_count": 46,
   "metadata": {},
   "outputs": [
    {
     "data": {
      "text/plain": [
       "0.3126770053180203"
      ]
     },
     "execution_count": 46,
     "metadata": {},
     "output_type": "execute_result"
    }
   ],
   "source": [
    "min(best_prophet)"
   ]
  },
  {
   "cell_type": "code",
   "execution_count": null,
   "metadata": {},
   "outputs": [],
   "source": []
  }
 ],
 "metadata": {
  "kernelspec": {
   "display_name": "pymc_env",
   "language": "python",
   "name": "python3"
  },
  "language_info": {
   "codemirror_mode": {
    "name": "ipython",
    "version": 3
   },
   "file_extension": ".py",
   "mimetype": "text/x-python",
   "name": "python",
   "nbconvert_exporter": "python",
   "pygments_lexer": "ipython3",
   "version": "3.12.8"
  }
 },
 "nbformat": 4,
 "nbformat_minor": 2
}
