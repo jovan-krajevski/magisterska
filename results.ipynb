{
 "cells": [
  {
   "cell_type": "code",
   "execution_count": 1,
   "metadata": {},
   "outputs": [],
   "source": [
    "import pandas as pd\n",
    "from pathlib import Path"
   ]
  },
  {
   "cell_type": "code",
   "execution_count": 22,
   "metadata": {},
   "outputs": [
    {
     "name": "stdout",
     "output_type": "stream",
     "text": [
      "prophet_results_2014.csv: 26.3301940204345\n",
      "prophet_results_default_2014.csv: 0.3435770094405776\n",
      "prophet_results_default_smp_2014.csv: 0.3468237309926702\n"
     ]
    }
   ],
   "source": [
    "prophet_results = {}\n",
    "\n",
    "for result_file in [\n",
    "    \"prophet_results_2014.csv\",\n",
    "    \"prophet_results_default_2014.csv\",\n",
    "    \"prophet_results_default_smp_2014.csv\",\n",
    "]:\n",
    "    prophet_results[result_file] = pd.read_csv(Path(\"./\") / result_file, index_col=0)\n",
    "\n",
    "for result_file in prophet_results.keys():\n",
    "    print(f\"{result_file}: {prophet_results[result_file]['mape'].mean()}\")"
   ]
  },
  {
   "cell_type": "code",
   "execution_count": 16,
   "metadata": {},
   "outputs": [
    {
     "data": {
      "text/plain": [
       "(0.9605224438074478, 661.8497201295756, 26.3301940204345)"
      ]
     },
     "execution_count": 16,
     "metadata": {},
     "output_type": "execute_result"
    }
   ],
   "source": [
    "(prophet_results[\"prophet_results_2014.csv\"][\"mape\"].min(),\n",
    "prophet_results[\"prophet_results_2014.csv\"][\"mape\"].max(),\n",
    "prophet_results[\"prophet_results_2014.csv\"][\"mape\"].mean())"
   ]
  },
  {
   "cell_type": "code",
   "execution_count": 24,
   "metadata": {},
   "outputs": [
    {
     "name": "stdout",
     "output_type": "stream",
     "text": [
      "my_result_linear_2014.csv: 0.27082506370387294\n"
     ]
    }
   ],
   "source": [
    "my_results = {}\n",
    "\n",
    "for result_file in [\n",
    "    \"my_result_linear_2014.csv\",\n",
    "    # \"my_result_same_2014.csv\",\n",
    "    # \"my_result_simple_2014.csv\",\n",
    "]:\n",
    "    my_results[result_file] = pd.read_csv(Path(\"./\") / result_file, index_col=0)\n",
    "    print(f\"{result_file}: {my_results[result_file]['mape'].mean()}\")"
   ]
  },
  {
   "cell_type": "code",
   "execution_count": 66,
   "metadata": {},
   "outputs": [
    {
     "data": {
      "text/html": [
       "<div>\n",
       "<style scoped>\n",
       "    .dataframe tbody tr th:only-of-type {\n",
       "        vertical-align: middle;\n",
       "    }\n",
       "\n",
       "    .dataframe tbody tr th {\n",
       "        vertical-align: top;\n",
       "    }\n",
       "\n",
       "    .dataframe thead th {\n",
       "        text-align: right;\n",
       "    }\n",
       "</style>\n",
       "<table border=\"1\" class=\"dataframe\">\n",
       "  <thead>\n",
       "    <tr style=\"text-align: right;\">\n",
       "      <th></th>\n",
       "      <th>mse</th>\n",
       "      <th>rmse</th>\n",
       "      <th>mae</th>\n",
       "      <th>mape</th>\n",
       "    </tr>\n",
       "  </thead>\n",
       "  <tbody>\n",
       "    <tr>\n",
       "      <th>PRGO</th>\n",
       "      <td>0.060717</td>\n",
       "      <td>0.246408</td>\n",
       "      <td>0.211053</td>\n",
       "      <td>0.216011</td>\n",
       "    </tr>\n",
       "    <tr>\n",
       "      <th>INCY</th>\n",
       "      <td>0.168545</td>\n",
       "      <td>0.410543</td>\n",
       "      <td>0.367722</td>\n",
       "      <td>0.349816</td>\n",
       "    </tr>\n",
       "    <tr>\n",
       "      <th>ED</th>\n",
       "      <td>0.032185</td>\n",
       "      <td>0.179403</td>\n",
       "      <td>0.148304</td>\n",
       "      <td>0.140498</td>\n",
       "    </tr>\n",
       "    <tr>\n",
       "      <th>CDNS</th>\n",
       "      <td>0.005822</td>\n",
       "      <td>0.076303</td>\n",
       "      <td>0.055513</td>\n",
       "      <td>0.047230</td>\n",
       "    </tr>\n",
       "    <tr>\n",
       "      <th>SHW</th>\n",
       "      <td>0.065807</td>\n",
       "      <td>0.256529</td>\n",
       "      <td>0.223741</td>\n",
       "      <td>0.195271</td>\n",
       "    </tr>\n",
       "    <tr>\n",
       "      <th>...</th>\n",
       "      <td>...</td>\n",
       "      <td>...</td>\n",
       "      <td>...</td>\n",
       "      <td>...</td>\n",
       "    </tr>\n",
       "    <tr>\n",
       "      <th>FE</th>\n",
       "      <td>0.002496</td>\n",
       "      <td>0.049958</td>\n",
       "      <td>0.042216</td>\n",
       "      <td>0.045426</td>\n",
       "    </tr>\n",
       "    <tr>\n",
       "      <th>EVRG</th>\n",
       "      <td>0.012768</td>\n",
       "      <td>0.112996</td>\n",
       "      <td>0.101321</td>\n",
       "      <td>0.086837</td>\n",
       "    </tr>\n",
       "    <tr>\n",
       "      <th>UAL</th>\n",
       "      <td>0.335582</td>\n",
       "      <td>0.579295</td>\n",
       "      <td>0.512152</td>\n",
       "      <td>0.407554</td>\n",
       "    </tr>\n",
       "    <tr>\n",
       "      <th>DFS</th>\n",
       "      <td>0.008021</td>\n",
       "      <td>0.089560</td>\n",
       "      <td>0.066776</td>\n",
       "      <td>0.059575</td>\n",
       "    </tr>\n",
       "    <tr>\n",
       "      <th>TDY</th>\n",
       "      <td>0.037247</td>\n",
       "      <td>0.192994</td>\n",
       "      <td>0.161771</td>\n",
       "      <td>0.153983</td>\n",
       "    </tr>\n",
       "  </tbody>\n",
       "</table>\n",
       "<p>437 rows × 4 columns</p>\n",
       "</div>"
      ],
      "text/plain": [
       "           mse      rmse       mae      mape\n",
       "PRGO  0.060717  0.246408  0.211053  0.216011\n",
       "INCY  0.168545  0.410543  0.367722  0.349816\n",
       "ED    0.032185  0.179403  0.148304  0.140498\n",
       "CDNS  0.005822  0.076303  0.055513  0.047230\n",
       "SHW   0.065807  0.256529  0.223741  0.195271\n",
       "...        ...       ...       ...       ...\n",
       "FE    0.002496  0.049958  0.042216  0.045426\n",
       "EVRG  0.012768  0.112996  0.101321  0.086837\n",
       "UAL   0.335582  0.579295  0.512152  0.407554\n",
       "DFS   0.008021  0.089560  0.066776  0.059575\n",
       "TDY   0.037247  0.192994  0.161771  0.153983\n",
       "\n",
       "[437 rows x 4 columns]"
      ]
     },
     "execution_count": 66,
     "metadata": {},
     "output_type": "execute_result"
    }
   ],
   "source": [
    "my_results[result_file]"
   ]
  },
  {
   "cell_type": "code",
   "execution_count": 25,
   "metadata": {},
   "outputs": [],
   "source": [
    "index = my_results[result_file].index\n",
    "prophet = []\n",
    "my = []\n",
    "for ticker in index:\n",
    "    best_prophet = [results.loc[ticker][\"mape\"] for results in prophet_results.values()]\n",
    "    best_my = [results.loc[ticker][\"mape\"] for results in my_results.values()]\n",
    "    prophet.append(min(best_prophet))\n",
    "    my.append(min(best_my))"
   ]
  },
  {
   "cell_type": "code",
   "execution_count": 26,
   "metadata": {},
   "outputs": [
    {
     "data": {
      "text/plain": [
       "0.3311428929528097"
      ]
     },
     "execution_count": 26,
     "metadata": {},
     "output_type": "execute_result"
    }
   ],
   "source": [
    "sum(prophet) / len(prophet)"
   ]
  },
  {
   "cell_type": "code",
   "execution_count": 27,
   "metadata": {},
   "outputs": [
    {
     "data": {
      "text/plain": [
       "0.27082506370387294"
      ]
     },
     "execution_count": 27,
     "metadata": {},
     "output_type": "execute_result"
    }
   ],
   "source": [
    "sum(my) / len(my)"
   ]
  },
  {
   "cell_type": "code",
   "execution_count": 39,
   "metadata": {},
   "outputs": [
    {
     "data": {
      "text/plain": [
       "(437, 437)"
      ]
     },
     "execution_count": 39,
     "metadata": {},
     "output_type": "execute_result"
    }
   ],
   "source": [
    "len(prophet), len(my)"
   ]
  },
  {
   "cell_type": "code",
   "execution_count": 46,
   "metadata": {},
   "outputs": [
    {
     "data": {
      "text/plain": [
       "0.3126770053180203"
      ]
     },
     "execution_count": 46,
     "metadata": {},
     "output_type": "execute_result"
    }
   ],
   "source": [
    "min(best_prophet)"
   ]
  },
  {
   "cell_type": "code",
   "execution_count": null,
   "metadata": {},
   "outputs": [],
   "source": []
  }
 ],
 "metadata": {
  "kernelspec": {
   "display_name": "new_pymc_env",
   "language": "python",
   "name": "python3"
  },
  "language_info": {
   "codemirror_mode": {
    "name": "ipython",
    "version": 3
   },
   "file_extension": ".py",
   "mimetype": "text/x-python",
   "name": "python",
   "nbconvert_exporter": "python",
   "pygments_lexer": "ipython3",
   "version": "3.12.8"
  }
 },
 "nbformat": 4,
 "nbformat_minor": 2
}
